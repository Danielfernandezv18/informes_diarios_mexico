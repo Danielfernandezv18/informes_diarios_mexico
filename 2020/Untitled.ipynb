{
 "cells": [
  {
   "cell_type": "code",
   "execution_count": 1,
   "id": "3513e3b4",
   "metadata": {},
   "outputs": [],
   "source": [
    "import glob\n",
    "import pandas as pd\n",
    "import numpy as np"
   ]
  },
  {
   "cell_type": "code",
   "execution_count": 2,
   "id": "4d08d311",
   "metadata": {
    "scrolled": true
   },
   "outputs": [
    {
     "name": "stdout",
     "output_type": "stream",
     "text": [
      "['HUGO LOPEZ-GATELL RAMIREZ1.csv', 'HUGO LOPEZ-GATELL RAMIREZ10.csv', 'HUGO LOPEZ-GATELL RAMIREZ11.csv', 'HUGO LOPEZ-GATELL RAMIREZ12.csv', 'HUGO LOPEZ-GATELL RAMIREZ13.csv', 'HUGO LOPEZ-GATELL RAMIREZ14.csv', 'HUGO LOPEZ-GATELL RAMIREZ15.csv', 'HUGO LOPEZ-GATELL RAMIREZ16.csv', 'HUGO LOPEZ-GATELL RAMIREZ17.csv', 'HUGO LOPEZ-GATELL RAMIREZ18.csv', 'HUGO LOPEZ-GATELL RAMIREZ19.csv', 'HUGO LOPEZ-GATELL RAMIREZ2.csv', 'HUGO LOPEZ-GATELL RAMIREZ20.csv', 'HUGO LOPEZ-GATELL RAMIREZ21.csv', 'HUGO LOPEZ-GATELL RAMIREZ22.csv', 'HUGO LOPEZ-GATELL RAMIREZ3.csv', 'HUGO LOPEZ-GATELL RAMIREZ4.csv', 'HUGO LOPEZ-GATELL RAMIREZ5.csv', 'HUGO LOPEZ-GATELL RAMIREZ6.csv', 'HUGO LOPEZ-GATELL RAMIREZ7.csv', 'HUGO LOPEZ-GATELL RAMIREZ8.csv', 'HUGO LOPEZ-GATELL RAMIREZ9.csv']\n"
     ]
    }
   ],
   "source": [
    "# Primero especificamos un patrón del archivo y lo pasamos como parámetro en la función glob\n",
    "csv_files = glob.glob('*.csv')\n",
    "# Mostrar el archivo csv_files, el cual es una lista de nombres\n",
    "print(csv_files)"
   ]
  },
  {
   "cell_type": "code",
   "execution_count": 3,
   "id": "f54fde58",
   "metadata": {
    "scrolled": true
   },
   "outputs": [
    {
     "data": {
      "text/plain": [
       "0                     Muchas gracias, doctor Reyes Terán.\n",
       "1       Ahora le pido al doctor José Luis Alomía si no...\n",
       "2                                 Gracias, doctor Alomía.\n",
       "3       Abrimos para preguntas. Por favor, compañera, ...\n",
       "4        Le contesto la segunda y le paso a su compatr...\n",
       "                              ...                        \n",
       "2049    No hay una previsión anticipada de cierre de a...\n",
       "2050    Y aquí ratifico la instrucción del señor presi...\n",
       "2051                                             Gracias.\n",
       "2052                                                  ---\n",
       "2053                                              VE 823.\n",
       "Name: Texto, Length: 2054, dtype: object"
      ]
     },
     "execution_count": 3,
     "metadata": {},
     "output_type": "execute_result"
    }
   ],
   "source": [
    "list_data = []\n",
    "  \n",
    "# Escribimos un loop que irá a través de cada uno de los nombres de archivo a través de globbing y \n",
    "# el resultado final será la lista dataframes\n",
    "for filename in csv_files:\n",
    "    data = pd.read_csv(filename)\n",
    "    list_data.append(data)\n",
    "#Para chequear que todo está bien, mostramos la list_data por consola\n",
    "list_data\n",
    " \n",
    "pd.concat(list_data,ignore_index=True)['Texto']"
   ]
  },
  {
   "cell_type": "code",
   "execution_count": null,
   "id": "e3acdf44",
   "metadata": {},
   "outputs": [],
   "source": []
  },
  {
   "cell_type": "code",
   "execution_count": 4,
   "id": "a14e738b",
   "metadata": {
    "scrolled": true
   },
   "outputs": [
    {
     "data": {
      "text/plain": [
       "0                     Muchas gracias, doctor Reyes Terán.\n",
       "1       Ahora le pido al doctor José Luis Alomía si no...\n",
       "2                                 Gracias, doctor Alomía.\n",
       "3       Abrimos para preguntas. Por favor, compañera, ...\n",
       "4        Le contesto la segunda y le paso a su compatr...\n",
       "                              ...                        \n",
       "2049    No hay una previsión anticipada de cierre de a...\n",
       "2050    Y aquí ratifico la instrucción del señor presi...\n",
       "2051                                             Gracias.\n",
       "2052                                                  ---\n",
       "2053                                              VE 823.\n",
       "Name: Texto, Length: 2054, dtype: object"
      ]
     },
     "execution_count": 4,
     "metadata": {},
     "output_type": "execute_result"
    }
   ],
   "source": [
    "informes = pd.concat(list_data,ignore_index=True)['Texto']\n",
    "informes"
   ]
  },
  {
   "cell_type": "code",
   "execution_count": 5,
   "id": "d1f7efde",
   "metadata": {},
   "outputs": [
    {
     "data": {
      "text/plain": [
       "pandas.core.series.Series"
      ]
     },
     "execution_count": 5,
     "metadata": {},
     "output_type": "execute_result"
    }
   ],
   "source": [
    "type(informes)"
   ]
  },
  {
   "cell_type": "code",
   "execution_count": 6,
   "id": "d7236e3b",
   "metadata": {},
   "outputs": [],
   "source": [
    "informe = np.array(informes)"
   ]
  },
  {
   "cell_type": "code",
   "execution_count": 7,
   "id": "5f2ff83d",
   "metadata": {},
   "outputs": [
    {
     "data": {
      "text/plain": [
       "array([' Muchas gracias, doctor Reyes Terán.',\n",
       "       'Ahora le pido al doctor José Luis Alomía si nos resume la situación actual en México.',\n",
       "       ' Gracias, doctor Alomía.', ..., 'Gracias.', '---', 'VE 823.'],\n",
       "      dtype=object)"
      ]
     },
     "execution_count": 7,
     "metadata": {},
     "output_type": "execute_result"
    }
   ],
   "source": [
    "informe"
   ]
  },
  {
   "cell_type": "code",
   "execution_count": 8,
   "id": "a298f631",
   "metadata": {},
   "outputs": [
    {
     "data": {
      "text/plain": [
       "'Como se puede mostrar en múltiples evidencias, incluida la vivencial de todas estas conferencias de prensa, aquí está la información, está el micrositio, están las comunicaciones que tenemos en los estados, están las minutas de los comités, subcomités y ahora el consejo.'"
      ]
     },
     "execution_count": 8,
     "metadata": {},
     "output_type": "execute_result"
    }
   ],
   "source": [
    "import random\n",
    "\n",
    "informe[random.randint(0, 2053)]"
   ]
  },
  {
   "cell_type": "code",
   "execution_count": null,
   "id": "806f680d",
   "metadata": {},
   "outputs": [],
   "source": []
  },
  {
   "cell_type": "markdown",
   "id": "14f83762",
   "metadata": {},
   "source": [
    "#librea de tokenizacion"
   ]
  },
  {
   "cell_type": "markdown",
   "id": "2fefd331",
   "metadata": {},
   "source": [
    "import re                                  # library for regular expression operations\n",
    "import string                              # for string operations\n",
    "\n",
    "from nltk.corpus import stopwords          # module for stop words that come with NLTK\n",
    "from nltk.stem import PorterStemmer        # module for stemming\n",
    "from nltk.tokenize import TweetTokenizer   # module for tokenizing strings"
   ]
  },
  {
   "cell_type": "markdown",
   "id": "f0eff444",
   "metadata": {},
   "source": [
    "informe2 = informe[random.randint(0, 2053)]\n",
    "\n",
    "# instantiate tokenizer class\n",
    "tokenizer = TweetTokenizer(preserve_case=False, strip_handles=True,\n",
    "                               reduce_len=True)\n",
    "\n",
    "# tokenize tweets\n",
    "informe_tokens = tokenizer.tokenize(informe2)\n",
    "\n",
    "print()\n",
    "print('Tokenized string:')\n",
    "print(informe2)"
   ]
  },
  {
   "cell_type": "markdown",
   "id": "00fce7a2",
   "metadata": {},
   "source": [
    "#Import the english stop words list from NLTK\n",
    "stopwords_spanish = stopwords.words('spanish') \n",
    "\n",
    "print('Stop words\\n')\n",
    "print(stopwords_spanish)\n",
    "\n",
    "print('\\nPunctuation\\n')\n",
    "print(string.punctuation)"
   ]
  },
  {
   "cell_type": "markdown",
   "id": "97d90953",
   "metadata": {},
   "source": [
    "print()\n",
    "print('\\033[92m')\n",
    "print(informe_tokens)\n",
    "print('\\033[94m')\n",
    "\n",
    "informe_clean = []\n",
    "\n",
    "for word in informe_tokens: # Go through every word in your tokens list\n",
    "    if (word not in stopwords_spanish and  # remove stopwords\n",
    "        word not in string.punctuation):  # remove punctuation\n",
    "        informe_clean.append(word)\n",
    "\n",
    "print('removed stop words and punctuation:')\n",
    "print(informe_clean)"
   ]
  },
  {
   "cell_type": "code",
   "execution_count": null,
   "id": "e6f64702",
   "metadata": {},
   "outputs": [],
   "source": []
  },
  {
   "cell_type": "code",
   "execution_count": null,
   "id": "fe2cbbad",
   "metadata": {},
   "outputs": [],
   "source": []
  },
  {
   "cell_type": "code",
   "execution_count": 9,
   "id": "30fa8226",
   "metadata": {},
   "outputs": [],
   "source": [
    "# libreta de lda\n",
    "\n",
    "import spacy\n",
    "nlp = spacy.load(\"es_core_news_sm\")"
   ]
  },
  {
   "cell_type": "code",
   "execution_count": 10,
   "id": "36613888",
   "metadata": {},
   "outputs": [],
   "source": [
    "def procesa_informe(doc): \n",
    "    \n",
    "    return [\n",
    "        token.norm_ for token in doc\n",
    "        if token.is_alpha and not token.like_num and not token.is_stop and\n",
    "           token.pos_ in ['PROPN', 'NOUN', 'VERB', 'ADJ']\n",
    "    ]\n",
    "\n",
    "informe_tratado = [procesa_informe(doc) for doc in nlp.pipe(informes)]"
   ]
  },
  {
   "cell_type": "code",
   "execution_count": 11,
   "id": "83fbdf2d",
   "metadata": {},
   "outputs": [
    {
     "name": "stdout",
     "output_type": "stream",
     "text": [
      "984\n",
      "Entonces, esta medida no es exclusiva para personas en alto riesgo de complicarse, es para todas y todos, cualquier edad, cualquier condición de salud y desde luego embarazadas y no embarazadas. Entonces, las dos medidas se complementan perfectivamente.\n",
      "********************\n",
      "['medida', 'exclusiva', 'personas', 'alto', 'riesgo', 'complicarse', 'edad', 'condición', 'salud', 'embarazadas', 'embarazadas', 'medidas', 'complementan']\n"
     ]
    }
   ],
   "source": [
    "i = random.randint(0, 2053)\n",
    "print(i)\n",
    "print(informes[i])\n",
    "print(\"********************\")\n",
    "print(informe_tratado[i])"
   ]
  },
  {
   "cell_type": "code",
   "execution_count": 12,
   "id": "6bc8d25f",
   "metadata": {},
   "outputs": [],
   "source": [
    "import warnings\n",
    "warnings.filterwarnings('ignore')\n",
    "\n",
    "from gensim import models, corpora\n",
    "\n",
    "# Genera el diccionario de palabras\n",
    "diccionario = corpora.Dictionary(informe_tratado)\n",
    "diccionario.filter_extremes(no_below=5, no_above=0.3)\n",
    " \n",
    "# Extrae las características en forma de BOW\n",
    "corpus = [diccionario.doc2bow(doc) for doc in informe_tratado]"
   ]
  },
  {
   "cell_type": "code",
   "execution_count": 13,
   "id": "7d96021e",
   "metadata": {},
   "outputs": [],
   "source": [
    "# Número de tópicos\n",
    "n_topicos = 15\n",
    "\n",
    "# Genera el modelo LDA\n",
    "modelo_lda = models.LdaModel(corpus=corpus, num_topics=n_topicos, id2word=diccionario, iterations=100, passes=10)\n",
    "\n",
    "# Si quieres guardar el modelo se hace esto\n",
    "#modelo_lda.save(\"sonetosLDA.model\")"
   ]
  },
  {
   "cell_type": "code",
   "execution_count": 14,
   "id": "8826c702",
   "metadata": {},
   "outputs": [],
   "source": [
    "modelo_hdp = models.hdpmodel.HdpModel(corpus, diccionario, T=n_topicos)"
   ]
  },
  {
   "cell_type": "code",
   "execution_count": 15,
   "id": "db8b5080",
   "metadata": {},
   "outputs": [
    {
     "name": "stdout",
     "output_type": "stream",
     "text": [
      "----------topico 0--------------------\n",
      "0.043*\"sitio\" + 0.043*\"productos\" + 0.039*\"turismo\" + 0.036*\"méxico\" + 0.032*\"doctor\" + 0.029*\"italia\"\n",
      "----------topico 1--------------------\n",
      "0.091*\"países\" + 0.058*\"méxico\" + 0.036*\"situación\" + 0.033*\"interés\" + 0.032*\"relación\" + 0.031*\"epidemias\"\n",
      "----------topico 2--------------------\n",
      "0.052*\"unidos\" + 0.045*\"insumos\" + 0.045*\"reserva\" + 0.043*\"llegada\" + 0.032*\"minutos\" + 0.032*\"mecanismos\"\n",
      "----------topico 3--------------------\n",
      "0.094*\"salud\" + 0.055*\"riesgo\" + 0.042*\"años\" + 0.032*\"pública\" + 0.029*\"ocurre\" + 0.029*\"seguridad\"\n",
      "----------topico 4--------------------\n",
      "0.060*\"proceso\" + 0.048*\"pendiente\" + 0.034*\"secretaría\" + 0.033*\"ve\" + 0.032*\"secretario\" + 0.032*\"masiva\"\n",
      "----------topico 5--------------------\n",
      "0.083*\"méxico\" + 0.044*\"país\" + 0.038*\"internacional\" + 0.036*\"viajes\" + 0.025*\"pregunta\" + 0.024*\"comunicación\"\n",
      "----------topico 6--------------------\n",
      "0.060*\"caso\" + 0.056*\"país\" + 0.045*\"dijimos\" + 0.041*\"llega\" + 0.032*\"virus\" + 0.029*\"doctor\"\n",
      "----------topico 7--------------------\n",
      "0.039*\"escenario\" + 0.035*\"enfermedad\" + 0.032*\"importante\" + 0.032*\"tengan\" + 0.031*\"coronavirus\" + 0.025*\"punto\"\n",
      "----------topico 8--------------------\n",
      "0.115*\"doctor\" + 0.113*\"gracias\" + 0.048*\"alomía\" + 0.046*\"compañera\" + 0.042*\"favor\" + 0.040*\"araceli\"\n",
      "----------topico 9--------------------\n",
      "0.047*\"transmisión\" + 0.032*\"casa\" + 0.029*\"cierre\" + 0.025*\"patrón\" + 0.023*\"distancia\" + 0.022*\"intervenciones\"\n",
      "----------topico 10--------------------\n",
      "0.054*\"casos\" + 0.047*\"salud\" + 0.039*\"información\" + 0.038*\"número\" + 0.028*\"hospitales\" + 0.027*\"estatales\"\n",
      "----------topico 11--------------------\n",
      "0.102*\"personas\" + 0.066*\"melina\" + 0.035*\"ahorita\" + 0.033*\"pregunta\" + 0.029*\"elementos\" + 0.028*\"síntomas\"\n",
      "----------topico 12--------------------\n",
      "0.093*\"casos\" + 0.083*\"vigilancia\" + 0.058*\"depende\" + 0.042*\"pruebas\" + 0.038*\"sospechoso\" + 0.036*\"modelo\"\n",
      "----------topico 13--------------------\n",
      "0.070*\"salud\" + 0.060*\"organización\" + 0.056*\"méxico\" + 0.056*\"mundial\" + 0.051*\"internacionales\" + 0.031*\"medidas\"\n",
      "----------topico 14--------------------\n",
      "0.069*\"epidemia\" + 0.065*\"gobierno\" + 0.051*\"respuesta\" + 0.050*\"producción\" + 0.037*\"fronteras\" + 0.035*\"insumos\"\n"
     ]
    }
   ],
   "source": [
    "for (i, topico) in modelo_lda.print_topics(num_topics=n_topicos, num_words=6):\n",
    "    print(10 * \"-\" + \"topico {}\".format(i) + 20 * \"-\")\n",
    "    print(topico)"
   ]
  },
  {
   "cell_type": "code",
   "execution_count": 16,
   "id": "71f70e06",
   "metadata": {},
   "outputs": [
    {
     "name": "stdout",
     "output_type": "stream",
     "text": [
      "----------topico 0--------------------\n",
      "0.007*operaciones + 0.006*común + 0.005*cortés + 0.005*clases + 0.005*infecciones\n",
      "----------topico 1--------------------\n",
      "0.006*considerar + 0.005*punto + 0.005*fenómenos + 0.004*cosa + 0.004*epidemiología\n",
      "----------topico 2--------------------\n",
      "0.005*salir + 0.005*surge + 0.005*distintas + 0.005*vacaciones + 0.004*bioseguridad\n",
      "----------topico 3--------------------\n",
      "0.008*enorme + 0.006*niveles + 0.005*pone + 0.005*completo + 0.005*explico\n",
      "----------topico 4--------------------\n",
      "0.007*aprovechar + 0.005*retos + 0.005*eventos + 0.004*declarar + 0.004*comunidad\n",
      "----------topico 5--------------------\n",
      "0.006*esperar + 0.005*respiratorias + 0.005*componente + 0.005*bienestar + 0.005*actividad\n",
      "----------topico 6--------------------\n",
      "0.007*especialista + 0.005*llegara + 0.005*vigor + 0.004*pulso + 0.004*reglas\n",
      "----------topico 7--------------------\n",
      "0.008*gobiernos + 0.005*gobernador + 0.005*identifican + 0.005*acabo + 0.005*economías\n",
      "----------topico 8--------------------\n",
      "0.006*profesionales + 0.006*afectar + 0.005*resolución + 0.005*territorio + 0.004*disminuir\n",
      "----------topico 9--------------------\n",
      "0.007*fila + 0.006*preocupación + 0.006*identificación + 0.005*significado + 0.004*inmune\n",
      "----------topico 10--------------------\n",
      "0.006*guanajuato + 0.005*distanciamiento + 0.005*concentraciones + 0.005*estudios + 0.005*europa\n",
      "----------topico 11--------------------\n",
      "0.006*puertos + 0.005*identificar + 0.005*ocurrencia + 0.004*media + 0.004*crónica\n",
      "----------topico 12--------------------\n",
      "0.007*comentario + 0.006*influenza + 0.005*marítimos + 0.005*necesaria + 0.005*estornudar\n",
      "----------topico 13--------------------\n",
      "0.007*inflexión + 0.006*competencia + 0.005*diagnóstico + 0.005*respeto + 0.005*significado\n",
      "----------topico 14--------------------\n",
      "0.007*itzel + 0.006*propósito + 0.005*máxima + 0.005*familias + 0.005*planes\n"
     ]
    }
   ],
   "source": [
    "for (i, topico) in modelo_hdp.print_topics(num_words=5):\n",
    "    print(10 * \"-\" + \"topico {}\".format(i) + 20 * \"-\")\n",
    "    print(topico)"
   ]
  },
  {
   "cell_type": "code",
   "execution_count": 17,
   "id": "67a16287",
   "metadata": {},
   "outputs": [
    {
     "name": "stdout",
     "output_type": "stream",
     "text": [
      "El informe: \n",
      "\n",
      " Gracias, doctor Gabastou.\n",
      "Pertenece a los tópicos (con el modelo LDA)\n",
      "\tTopico 8 con un peso de 0.7666659355163574\n",
      "\tTopico 5 con un peso de 0.01666673831641674\n",
      "\tTopico 0 con un peso de 0.016666723415255547\n",
      "\tTopico 3 con un peso de 0.016666721552610397\n",
      "\tTopico 6 con un peso de 0.016666721552610397\n",
      "\tTopico 1 con un peso de 0.0166667178273201\n",
      "\tTopico 2 con un peso de 0.0166667178273201\n",
      "\tTopico 4 con un peso de 0.0166667178273201\n",
      "\tTopico 7 con un peso de 0.0166667178273201\n",
      "\tTopico 9 con un peso de 0.0166667178273201\n",
      "\tTopico 10 con un peso de 0.0166667178273201\n",
      "\tTopico 11 con un peso de 0.0166667178273201\n",
      "\tTopico 12 con un peso de 0.0166667178273201\n",
      "\tTopico 13 con un peso de 0.0166667178273201\n",
      "\tTopico 14 con un peso de 0.0166667178273201\n",
      "Pertenece a los tópicos (con el modelo HDP)\n",
      "\tTopico 12 con un peso de 0.7678620605269209\n",
      "\tTopico 4 con un peso de 0.018977263925399824\n",
      "\tTopico 11 con un peso de 0.017599807906071536\n",
      "\tTopico 1 con un peso de 0.017513425784989274\n",
      "\tTopico 13 con un peso de 0.017187958981302265\n",
      "\tTopico 3 con un peso de 0.01687111748584363\n",
      "\tTopico 5 con un peso de 0.01665562323044128\n",
      "\tTopico 2 con un peso de 0.01657478406706579\n",
      "\tTopico 7 con un peso de 0.01612803965109908\n",
      "\tTopico 9 con un peso de 0.01609152586010364\n",
      "\tTopico 14 con un peso de 0.016025570416581265\n",
      "\tTopico 0 con un peso de 0.015919543617615384\n",
      "\tTopico 6 con un peso de 0.015584341927940946\n",
      "\tTopico 10 con un peso de 0.015505436996453318\n",
      "\tTopico 8 con un peso de 0.015503499622171854\n"
     ]
    }
   ],
   "source": [
    "i = random.randint(0, 2053)\n",
    "\n",
    "respuesta = informes[i]\n",
    "ids = diccionario.doc2bow(informe_tratado[i])\n",
    "\n",
    "print(\"El informe: \\n\\n\" + respuesta)\n",
    "\n",
    "topicos_lda = modelo_lda[ids]\n",
    "topicos_lda.sort(key=lambda x:x[1], reverse=True)\n",
    "\n",
    "topicos_hdp = modelo_hdp[ids]\n",
    "topicos_hdp.sort(key=lambda x:x[1], reverse=True)\n",
    "\n",
    "print(\"Pertenece a los tópicos (con el modelo LDA)\")\n",
    "for (topico, peso) in topicos_lda:\n",
    "    print(\"\\tTopico {} con un peso de {}\".format(topico, peso))\n",
    "\n",
    "print(\"Pertenece a los tópicos (con el modelo HDP)\")\n",
    "for (topico, peso) in topicos_hdp:\n",
    "    print(\"\\tTopico {} con un peso de {}\".format(topico, peso))"
   ]
  },
  {
   "cell_type": "code",
   "execution_count": 18,
   "id": "ded65720",
   "metadata": {},
   "outputs": [
    {
     "data": {
      "text/html": [
       "\n",
       "<link rel=\"stylesheet\" type=\"text/css\" href=\"https://cdn.jsdelivr.net/gh/bmabey/pyLDAvis@3.3.1/pyLDAvis/js/ldavis.v1.0.0.css\">\n",
       "\n",
       "\n",
       "<div id=\"ldavis_el1680419757632542885664483085\"></div>\n",
       "<script type=\"text/javascript\">\n",
       "\n",
       "var ldavis_el1680419757632542885664483085_data = {\"mdsDat\": {\"x\": [-0.08796731518082841, -0.047346010683235004, -0.10878179059381565, -0.06417182367620676, -0.007666215025281342, -0.029535829146663674, -0.11165721442812498, 0.21625331075377802, 0.14175825133546546, -0.1176622067309667, 0.010287618624356893, 0.2652351785963415, 0.1741680803250229, -0.220210774833843, -0.012703259335998345], \"y\": [-0.10590470543598668, -0.18109792137114433, -0.18527003772082176, -0.11912959477442243, -0.035853523448593716, -0.00842443810962935, 0.11498933208346446, -0.0483612019744493, 0.024543316493982805, 0.08737246147200779, -0.15253933173906423, 0.08196130420783132, 0.09105918211232769, 0.2245528619366082, 0.2121022962678903], \"topics\": [1, 2, 3, 4, 5, 6, 7, 8, 9, 10, 11, 12, 13, 14, 15], \"cluster\": [1, 1, 1, 1, 1, 1, 1, 1, 1, 1, 1, 1, 1, 1, 1], \"Freq\": [12.174243070606213, 10.381682657804815, 10.349247188638747, 9.086675080192515, 8.190585461577292, 6.220685050362794, 6.161721442983691, 6.046274735265686, 5.4388352741305095, 5.357369036799088, 4.961737674069893, 4.8002538096910525, 4.109911700563021, 3.730600724691287, 2.990177092623393]}, \"tinfo\": {\"Term\": [\"salud\", \"casos\", \"doctor\", \"m\\u00e9xico\", \"personas\", \"vigilancia\", \"gracias\", \"pa\\u00edses\", \"epidemia\", \"pa\\u00eds\", \"riesgo\", \"melina\", \"caso\", \"informaci\\u00f3n\", \"organizaci\\u00f3n\", \"depende\", \"respuesta\", \"a\\u00f1os\", \"transmisi\\u00f3n\", \"mundial\", \"n\\u00famero\", \"medidas\", \"proceso\", \"sitio\", \"productos\", \"gobierno\", \"internacionales\", \"situaci\\u00f3n\", \"eventos\", \"insumos\", \"n\\u00famero\", \"estatales\", \"hospitales\", \"gobernadores\", \"unidades\", \"secretarios\", \"secretarias\", \"expansi\\u00f3n\", \"consolidada\", \"curva\", \"reuni\\u00f3n\", \"instituto\", \"tuvimos\", \"mexicano\", \"m\\u00e9dico\", \"a\\u00f1o\", \"dejamos\", \"brote\", \"california\", \"distribuci\\u00f3n\", \"guanajuato\", \"abrir\", \"conversaci\\u00f3n\", \"epid\\u00e9mica\", \"gobernador\", \"hospitalizaci\\u00f3n\", \"conago\", \"alcocer\", \"lenta\", \"cantidad\", \"seguro\", \"nivel\", \"autoridades\", \"fecha\", \"unidad\", \"ocurrir\", \"permite\", \"personal\", \"informaci\\u00f3n\", \"casos\", \"din\\u00e1mica\", \"medida\", \"consejo\", \"salud\", \"condiciones\", \"nacional\", \"social\", \"sistema\", \"punto\", \"consecuencias\", \"disminuir\", \"jaime\", \"hern\\u00e1ndez\", \"posponer\", \"presente\", \"realidad\", \"agradezco\", \"vista\", \"preparado\", \"coronavirus\", \"mayor\\u00eda\", \"vive\", \"tengan\", \"considerar\", \"covid\", \"fen\\u00f3meno\", \"proporci\\u00f3n\", \"leve\", \"grave\", \"complicarse\", \"enfermedad\", \"intervenci\\u00f3n\", \"particular\", \"embarazada\", \"mujer\", \"meses\", \"semanas\", \"cr\\u00f3nica\", \"trabajando\", \"importante\", \"atenci\\u00f3n\", \"escenario\", \"decisiones\", \"tomar\", \"cancelar\", \"explicado\", \"condiciones\", \"sociedad\", \"fase\", \"preparaci\\u00f3n\", \"eventos\", \"epidemia\", \"cierre\", \"patr\\u00f3n\", \"distancia\", \"sana\", \"comunitaria\", \"raz\\u00f3n\", \"vida\", \"vacaciones\", \"inquietud\", \"competencia\", \"reducir\", \"expectativa\", \"abril\", \"hospital\", \"distanciamiento\", \"escuela\", \"jornada\", \"negativo\", \"necesitar\", \"escolar\", \"valadez\", \"natural\", \"susana\", \"controlar\", \"vuelve\", \"empiezan\", \"mitad\", \"transporte\", \"alcance\", \"compa\\u00f1eras\", \"transmisi\\u00f3n\", \"casa\", \"intervenciones\", \"velocidad\", \"prueba\", \"mecanismo\", \"semana\", \"oportunidad\", \"mitigaci\\u00f3n\", \"evento\", \"social\", \"persona\", \"tengamos\", \"medidas\", \"poblaci\\u00f3n\", \"fase\", \"importante\", \"actividades\", \"caso\", \"personas\", \"seguridad\", \"equipos\", \"director\", \"visto\", \"oportuno\", \"protecci\\u00f3n\", \"federal\", \"plan\", \"ocurre\", \"operaci\\u00f3n\", \"planes\", \"educaci\\u00f3n\", \"marina\", \"administraci\\u00f3n\", \"dependencias\", \"civil\", \"utilizar\", \"armadas\", \"centro\", \"especiales\", \"contagi\\u00f3\", \"fuerzas\", \"medicina\", \"generalizada\", \"caracter\\u00edstica\", \"estatal\", \"campo\", \"a\\u00f1os\", \"necesario\", \"operar\", \"p\\u00fablica\", \"riesgo\", \"necesitan\", \"circunstancia\", \"salud\", \"excelente\", \"mensaje\", \"nacional\", \"sector\", \"situaci\\u00f3n\", \"eventos\", \"materiales\", \"epidemiolog\\u00eda\", \"instituciones\", \"capacidad\", \"secretar\\u00eda\", \"doctor\", \"pa\\u00eds\", \"necesita\", \"territorio\", \"sistema\", \"social\", \"insumos\", \"italia\", \"econ\\u00f3micas\", \"com\\u00fan\", \"permitido\", \"participaci\\u00f3n\", \"acceso\", \"t\\u00e9cnicas\", \"turismo\", \"dolor\", \"fiebre\", \"evitar\", \"viaje\", \"temperatura\", \"garganta\", \"informe\", \"cofepris\", \"tos\", \"l\\u00f3gica\", \"estornudos\", \"antecedente\", \"m\\u00e1xima\", \"espa\\u00f1a\", \"investigaci\\u00f3n\", \"esencial\", \"productos\", \"cambio\", \"haga\", \"sitio\", \"preciso\", \"mauricio\", \"sentido\", \"doctora\", \"asunto\", \"comentar\", \"connacionales\", \"llegar\", \"decimos\", \"control\", \"doctor\", \"m\\u00e9xico\", \"prevenci\\u00f3n\", \"contactos\", \"situaci\\u00f3n\", \"persona\", \"empieza\", \"personas\", \"melina\", \"mano\", \"evidencia\", \"calidad\", \"inmune\", \"prensa\", \"cambiando\", \"ten\\u00edan\", \"tuvieran\", \"gustavo\", \"nombre\", \"exacto\", \"funciona\", \"elementos\", \"ter\\u00e1n\", \"reyes\", \"mayores\", \"gel\", \"alcohol\", \"cr\\u00f3nicas\", \"adultas\", \"tuviera\", \"adultos\", \"noche\", \"infecci\\u00f3n\", \"estudios\", \"defensas\", \"preguntar\", \"siguientes\", \"muestra\", \"personas\", \"t\\u00e9rminos\", \"pregunta\", \"ahorita\", \"s\\u00edntomas\", \"cient\\u00edfico\", \"alta\", \"virus\", \"poblaci\\u00f3n\", \"explicado\", \"circunstancia\", \"china\", \"respuesta\", \"informaci\\u00f3n\", \"eventos\", \"vigilancia\", \"depende\", \"sospechoso\", \"monitoreo\", \"preguntas\", \"epidemiol\\u00f3gica\", \"sospechosos\", \"correcto\", \"detecci\\u00f3n\", \"condici\\u00f3n\", \"carga\", \"centinela\", \"espec\\u00edfico\", \"confirmaci\\u00f3n\", \"explicaci\\u00f3n\", \"viral\", \"pruebas\", \"laboratorio\", \"sarampi\\u00f3n\", \"importados\", \"contagio\", \"confirmados\", \"fila\", \"modelo\", \"comunitarios\", \"vino\", \"requiere\", \"poquitos\", \"territorial\", \"etapa\", \"generaci\\u00f3n\", \"casos\", \"alta\", \"mundo\", \"caso\", \"contactos\", \"epidemia\", \"importaci\\u00f3n\", \"personas\", \"m\\u00e9xico\", \"aislamiento\", \"organizaci\\u00f3n\", \"mundial\", \"internacionales\", \"se\\u00f1or\", \"recomendaciones\", \"significado\", \"apropiadas\", \"p\\u00e1nico\", \"comentario\", \"actuar\", \"emergencia\", \"sanitaria\", \"conocimiento\", \"monta\\u00f1a\", \"panamericana\", \"preside\", \"inteligencia\", \"presidente\", \"autoridad\", \"salvador\", \"tama\\u00f1o\", \"metropolitana\", \"valle\", \"empresa\", \"participar\", \"centros\", \"t\\u00e9cnica\", \"pemex\", \"reglamento\", \"riesgos\", \"sanitario\", \"enero\", \"ciudad\", \"retomo\", \"cient\\u00edfico\", \"manejo\", \"salud\", \"m\\u00e9xico\", \"internacional\", \"medidas\", \"actividades\", \"tomar\", \"preparaci\\u00f3n\", \"ahorita\", \"pasar\", \"respuesta\", \"epidemia\", \"viajes\", \"comunicaci\\u00f3n\", \"oms\", \"noticias\", \"definici\\u00f3n\", \"rapidito\", \"aumentar\", \"tomaron\", \"toman\", \"cambia\", \"alternativa\", \"gusto\", \"sheinbaum\", \"reducci\\u00f3n\", \"jefa\", \"procedimientos\", \"alto\", \"estudiar\", \"fundamentales\", \"darle\", \"destacar\", \"v\\u00e1monos\", \"empez\\u00f3\", \"ponerlos\", \"corresponden\", \"laura\", \"repertorio\", \"toma\", \"detectar\", \"compa\\u00f1ero\", \"cerrar\", \"empieza\", \"mar\\u00edtimos\", \"puertos\", \"gabastou\", \"internacional\", \"m\\u00e9xico\", \"pa\\u00eds\", \"pregunta\", \"din\\u00e1mica\", \"actividades\", \"preparaci\\u00f3n\", \"pasar\", \"decisiones\", \"riesgo\", \"respuesta\", \"escenario\", \"caso\", \"dijimos\", \"llega\", \"tabla\", \"pido\", \"pasa\", \"incluye\", \"ayuda\", \"redes\", \"espec\\u00edficas\", \"tom\\u00f3\", \"queda\", \"respiratoria\", \"manos\", \"lavarse\", \"sociales\", \"etiqueta\", \"indispensable\", \"hagan\", \"metro\", \"lavado\", \"protege\", \"balance\", \"ponemos\", \"ops\", \"estornudo\", \"llegara\", \"doy\", \"ponen\", \"damos\", \"minuto\", \"materiales\", \"escenarios\", \"retomo\", \"manejo\", \"caso\", \"pa\\u00eds\", \"virus\", \"s\\u00edntomas\", \"alom\\u00eda\", \"cancelar\", \"mundo\", \"pasar\", \"vemos\", \"informaci\\u00f3n\", \"doctor\", \"epidemia\", \"personas\", \"pendiente\", \"proceso\", \"ve\", \"masiva\", \"concentraci\\u00f3n\", \"s\\u00e1bado\", \"hacienda\", \"completa\", \"anunciar\", \"restricci\\u00f3n\", \"criterio\", \"agradecimiento\", \"posibles\", \"laboratorios\", \"esenciales\", \"privados\", \"ley\", \"suspensi\\u00f3n\", \"privadas\", \"gu\\u00eda\", \"componentes\", \"bioseguridad\", \"anunciamos\", \"recursos\", \"secretario\", \"\\u00fatiles\", \"notificaci\\u00f3n\", \"vuelvo\", \"implican\", \"epidemiol\\u00f3gicos\", \"secretar\\u00eda\", \"compra\", \"diagn\\u00f3stico\", \"canciller\", \"escenarios\", \"fase\", \"eventos\", \"medidas\", \"situaci\\u00f3n\", \"m\\u00e9xico\", \"actividades\", \"acciones\", \"inter\\u00e9s\", \"relaci\\u00f3n\", \"regi\\u00f3n\", \"tipo\", \"hablando\", \"principio\", \"importantes\", \"t\\u00e9cnicos\", \"grande\", \"pandemia\", \"decenas\", \"europa\", \"implica\", \"dif\\u00edcil\", \"temprana\", \"contrario\", \"vecinos\", \"tema\", \"influenza\", \"econom\\u00eda\", \"pa\\u00edses\", \"epidemias\", \"colaboraci\\u00f3n\", \"canad\\u00e1\", \"llamadas\", \"empezaron\", \"mencionado\", \"conferencia\", \"olvidar\", \"am\\u00e9rica\", \"t\\u00e9cnico\", \"enero\", \"t\\u00e9rminos\", \"sanitario\", \"riesgos\", \"reglamento\", \"situaci\\u00f3n\", \"m\\u00e9xico\", \"ahorita\", \"pa\\u00eds\", \"internacional\", \"producci\\u00f3n\", \"perd\\u00f3n\", \"inicio\", \"fronteras\", \"aeropuertos\", \"obviamente\", \"llegan\", \"real\", \"partes\", \"aspecto\", \"absoluta\", \"enfrentar\", \"an\\u00e1lisis\", \"transparencia\", \"preparados\", \"instrucci\\u00f3n\", \"trabajos\", \"gente\", \"gobierno\", \"empezar\", \"contenci\\u00f3n\", \"predecir\", \"falsa\", \"prepararnos\", \"contener\", \"\\u00e1ngulo\", \"vemos\", \"l\\u00ednea\", \"viaj\\u00f3\", \"costo\", \"t\\u00e9cnico\", \"insumos\", \"puertos\", \"respuesta\", \"mar\\u00edtimos\", \"epidemia\", \"china\", \"medidas\", \"pa\\u00edses\", \"gracias\", \"araceli\", \"itzel\", \"material\", \"favor\", \"p\\u00fablicos\", \"comit\\u00e9\", \"generales\", \"consideramos\", \"relevante\", \"econ\\u00f3mico\", \"tratar\", \"viajeros\", \"institutos\", \"preguntaba\", \"canal\", \"aplica\", \"criterios\", \"ciencia\", \"compa\\u00f1era\", \"terminamos\", \"cl\\u00ednica\", \"ac\\u00e1\", \"comando\", \"ruth\", \"emergencias\", \"alom\\u00eda\", \"quedan\", \"exceso\", \"minutos\", \"doctor\", \"gabastou\", \"modelo\", \"caso\", \"reserva\", \"ebrard\", \"llegada\", \"unidos\", \"nacionales\", \"dec\\u00eda\", \"trasmisi\\u00f3n\", \"vigor\", \"lista\", \"insisto\", \"fluida\", \"relaciones\", \"exteriores\", \"vuelos\", \"entr\\u00f3\", \"identificaci\\u00f3n\", \"l\\u00f3pez\", \"consiste\", \"periodo\", \"febrero\", \"comunidad\", \"\\u00fatil\", \"mecanismos\", \"explicar\", \"forma\", \"minutos\", \"canciller\", \"subsecretaria\", \"insumos\", \"quedan\", \"connacionales\", \"china\", \"a\\u00f1os\", \"epidemia\", \"cerrar\", \"pregunta\", \"epidemias\"], \"Freq\": [368.0, 253.0, 206.0, 320.0, 228.0, 101.0, 83.0, 103.0, 186.0, 159.0, 124.0, 81.0, 158.0, 145.0, 72.0, 71.0, 124.0, 89.0, 111.0, 67.0, 91.0, 159.0, 59.0, 84.0, 82.0, 61.0, 61.0, 117.0, 126.0, 66.0, 90.601743097595, 65.23477831464325, 66.36839162239512, 47.68368783179376, 44.96542497822837, 39.88247422890049, 38.5816040111634, 37.93216413379489, 37.922376946890985, 21.477671487570507, 18.95353010010892, 16.99998215543707, 16.353428672564725, 16.322384590438162, 15.688043892318454, 13.93596338258024, 7.877881016037564, 12.930778451817387, 7.248049542253484, 7.179999472708404, 6.6039116156564415, 6.601417958254456, 6.597136342916593, 11.241972127727516, 14.782537198081803, 6.571041640761042, 5.9546028366077195, 5.954535334919657, 5.9534525185847, 23.924035310158505, 15.954204721945326, 18.639561339377927, 45.24271968132926, 37.80759060527293, 11.587367666105827, 45.77124116290463, 10.816040938973286, 22.535165205795252, 93.86612026938657, 129.18862674492226, 37.28240738899812, 47.570267144162294, 25.84168128262404, 113.00629644204524, 32.50812344962976, 35.43845763967173, 20.624320725733526, 16.677732443816794, 51.656176361324185, 41.824503027485555, 38.64198951872751, 37.08306486896775, 36.02871971360265, 32.86606102090001, 32.86600393402234, 39.06624777623332, 31.28185259301794, 32.225059112029236, 30.925853115148257, 64.00922485039814, 23.6758329706821, 10.626322671076007, 64.98345428163401, 9.015149256524106, 49.79176080016573, 12.647019268557807, 6.931824548440878, 6.408395918485854, 7.804040204995321, 5.877553130292776, 70.76242741293753, 10.74148688375387, 4.8216666292304495, 4.300605677527, 4.300605677527, 4.29984547060596, 46.63484124156536, 3.7735972246177667, 34.03524213939634, 65.66086239529412, 25.685247298239382, 79.92080669410049, 41.72160963916396, 38.96734285776529, 32.273560123302, 33.544629901072845, 37.79480883665351, 18.956732907398564, 41.62817744936905, 34.025586845485556, 32.41002059569656, 35.521681677676106, 59.79691705459501, 51.8005072428262, 46.30727944127456, 28.55331750103383, 29.391617958265876, 34.37762959454554, 23.727981383690782, 16.1251755653426, 14.319715737705215, 14.29646101896606, 14.229724396079835, 12.546367491666361, 12.551737759122968, 14.04236921389933, 10.794493676126455, 13.554022017327771, 9.900377341238736, 9.0100738772757, 8.94152471798722, 8.133403798056797, 8.132830918942739, 8.12947616161423, 8.128867240436707, 8.126895360174911, 8.05727916611273, 11.514320076840516, 9.558079225163604, 7.944352741942627, 7.243221738939125, 7.2423543582275265, 96.49678991294974, 65.80040942120766, 44.5798440417161, 18.310982546372195, 37.30405545300833, 19.929219978378693, 32.22883591574602, 21.78287468419916, 31.926336774016825, 18.121873633261405, 32.46642519812156, 31.79029885088608, 15.303721927355394, 43.941853991530294, 25.279013645985984, 28.16374452786939, 25.375756235183974, 23.142392699884816, 17.197315033398894, 15.16001273555827, 51.271151898589466, 45.65515688250823, 45.01859157266011, 39.967444173485966, 36.820519774478456, 22.04599216160198, 19.659378570587794, 19.653697450043857, 52.3084402341279, 10.74157325547465, 8.929701358351213, 8.283105398114397, 7.6730636428432835, 7.672122618771948, 7.6544097143495655, 7.038954988756615, 7.03895582152128, 6.410411700925461, 6.404333351636369, 6.399908872971765, 6.344403026144644, 5.148752414488196, 5.147077308364753, 5.1448692328557755, 5.139669033905819, 6.596968473920601, 5.0837051665130035, 75.58601138970636, 6.955774290203267, 4.517072518546702, 56.96837144902621, 98.66019476564742, 11.12895955505662, 35.79961691648656, 167.68041639048695, 6.92869444883011, 7.892163193413312, 43.83397384366656, 13.048975104328392, 44.16946474762608, 42.91940170914752, 23.250271464333768, 11.23505210783531, 12.286433319797812, 12.711149128248504, 20.113003804380423, 39.16477562357726, 30.94286676962757, 9.986718721565746, 10.064126695462019, 12.647538399320261, 13.065609578509731, 10.07367184405108, 46.4709454077201, 39.62001986421307, 36.791836068715355, 36.216728022722386, 34.49948678618816, 33.934034985011714, 33.361509143789334, 63.57725633349899, 12.09711891438537, 11.523908488642414, 11.493328878774891, 8.095210454516444, 7.524206913083237, 7.523758780452992, 6.934561204360031, 7.2223351651465695, 5.808415164168777, 6.179433326567658, 5.236878292360713, 5.2359872815866755, 5.234146334726248, 5.188411284649946, 10.16550739151414, 4.6593768277889565, 68.55024042939421, 13.515914328149494, 4.891883724755201, 69.40102886028448, 4.0917684352445205, 4.090579420024575, 30.208039608725816, 14.610425357337338, 38.870207650107595, 14.311397037212007, 31.453010605537646, 11.115836813746956, 6.29334984220135, 15.091734815038643, 51.328363829876686, 58.83136213435869, 12.786923391929662, 11.589168459732614, 17.264657126926075, 14.459842284602196, 11.301521357261839, 13.347902874494714, 80.19548677334006, 25.105359476826326, 24.394049798757766, 22.991767258820364, 22.642775817065246, 22.64146229316627, 21.938768054837848, 21.9250056994033, 20.530239435110015, 21.49090201375695, 20.623809769524318, 21.14327426521639, 24.23251372426538, 35.2302913038824, 27.912145689127524, 28.3624495028612, 6.89543606480509, 2.8711024197233437, 2.8711024197233437, 2.8708934759260463, 2.8701842642375386, 2.869046617996046, 2.869430299239105, 2.8661205496750926, 29.231213297472213, 2.5179948136667587, 2.1673571912439833, 2.8642873742857065, 3.9892504707349725, 2.136188506251081, 124.28205561682724, 23.619342068752864, 39.92776518461863, 42.577083597836754, 33.70310997237083, 20.118217089591706, 21.809534178312383, 32.68611181316797, 25.905797224456414, 22.145917158891425, 19.34112175624961, 21.791534796134275, 23.116647807007045, 24.774581777052273, 22.29342634883072, 100.9734218541117, 70.45473745460717, 45.498178342076166, 43.64669204468582, 39.48060957129953, 39.46837134883638, 29.09280273048387, 24.265869796936222, 23.89534620488325, 23.8947905380826, 23.524178852512453, 23.152864677613028, 22.78099709472108, 22.778704404466357, 22.037072189054037, 21.66771640080569, 51.111239752442856, 34.22758862444179, 8.649123162765898, 5.611916194643393, 4.881835524021875, 4.497608025378627, 3.4008217131504934, 44.21374775594355, 2.657816142393474, 2.657826589381088, 4.631320149252914, 2.2817516939909086, 2.27122395398627, 5.155143402254186, 5.287774968787977, 112.30105551233014, 24.39691906837303, 18.86859345689365, 38.74539462979231, 10.752180827727262, 29.726484246424715, 6.667521611101625, 26.07723966188922, 22.317006280943723, 6.637457439556973, 71.50201719444459, 66.12880090947178, 60.657957244753725, 22.975856645323812, 21.95191951467343, 20.62252389840687, 20.286526656986997, 19.950615858554226, 19.614385886015217, 23.826406875734662, 10.801014666842425, 14.560751540859565, 22.04450217035064, 3.750356424611874, 3.4149451669026676, 3.4123748733405495, 3.0766585716287675, 28.16539709810465, 7.961998118019304, 2.4041102441376547, 4.8566130456466405, 2.395537704188802, 2.06950121613731, 2.0693252824936814, 1.996041577809564, 1.731772205836328, 23.237969514123527, 2.7156995323777977, 21.321459778894614, 20.748728443094556, 20.85473635961536, 22.015468409117318, 8.592371410811015, 18.881551055660893, 18.326947257554306, 21.028595371553706, 83.77461178417816, 66.28755013056139, 24.565430137371024, 36.50092145874714, 22.108915494665588, 18.510160952238294, 22.600175423361808, 21.333100767824867, 19.537626729952077, 22.602806393251413, 22.748569217893507, 38.27480420324191, 26.180217438294584, 23.79879203701252, 22.0807880789757, 21.04993386516315, 20.709353691653696, 20.708809382253875, 20.708209246248945, 20.706002101539777, 20.023810956133662, 20.023707278152745, 13.113157131828372, 3.829597943394081, 3.48406864165127, 3.1432055967275314, 3.1406587570953084, 3.133382606487349, 3.405785036958193, 2.7996603824993618, 2.7929826233149235, 2.7475945964569277, 5.348838252262809, 5.707609923808783, 2.1126743797016876, 2.110807179141495, 2.1112418291384216, 2.109912707330158, 2.326944117664964, 3.4097567011502954, 6.1482986646723745, 21.973967857712594, 21.873645454522816, 19.383776872814806, 19.435787330703963, 19.138307290146663, 40.62441442103331, 88.93101631802709, 47.10704367015382, 26.903241757723926, 19.67696624000795, 23.829749883353276, 22.121555457357193, 19.82566439033277, 17.803433347749653, 24.744217588355678, 24.397891262134554, 22.520434557059964, 14.369876817782535, 47.1104168297715, 43.077731218495295, 27.192941191835203, 28.234962131585956, 24.302637927654107, 22.85889247864169, 22.140356493031767, 21.77947021132125, 21.7763671816237, 21.41725826818931, 6.552670758226236, 6.191431948774762, 12.060188087861471, 4.707531724321798, 29.497296215919764, 4.0237999973598555, 3.9327501340366937, 2.8351400375072173, 3.9970952845039007, 2.2226643303966336, 2.221725565715983, 2.221734648951648, 2.220513812979662, 2.2192703916649403, 3.9832627440499424, 1.8611500779609318, 1.8608595371660706, 1.8601456439413497, 1.8585029284966392, 3.6648580190674216, 28.088891918431003, 29.718029644271983, 20.76074163373057, 23.00883362314719, 63.701841348391426, 58.60251873772581, 33.82915120495368, 26.543202124139903, 22.927255365187225, 20.29935254079074, 16.485412847706037, 22.982357709632858, 10.451806291994247, 26.499706681917374, 30.44891490250101, 25.879456216063012, 28.462842347956766, 46.746566037067595, 58.324099353037, 32.00417028005192, 30.77658828679561, 30.774805755526696, 29.55314431255643, 27.102338433105366, 25.466127516635265, 25.060197855057257, 24.24225246085452, 23.834742166957444, 24.760021408281318, 24.56681320782544, 14.582026147915922, 8.62120429701805, 7.819192549668066, 6.583761052645426, 27.664485133490334, 6.554983176654457, 5.674590528209646, 4.965495951616079, 5.247069047182169, 4.066455388679695, 4.489188135831419, 31.410645572605663, 2.922818567914155, 2.919682540644748, 2.5139468202877087, 2.5133784110820594, 2.4879734753174128, 32.85545628462122, 12.091432533524149, 14.181431347778457, 15.0362360326944, 24.119146849822396, 27.073459607639474, 27.812078722556553, 25.07594597314529, 17.712134685946705, 14.757399031680624, 10.076361875485874, 7.249118587137433, 31.267937819339185, 30.28679305173656, 28.570412646317994, 21.658402965115553, 18.950734814763738, 17.736621836057534, 19.13990556528754, 17.490834126367282, 17.23958603176084, 16.995770958709667, 16.50652187798827, 16.01946011871412, 16.02084501169802, 15.040567781885823, 15.039084345055546, 14.79542060719702, 14.299834805211297, 22.836566796721254, 22.508405230017864, 18.055742004855873, 85.57272400460239, 29.54371965871059, 18.25874056868016, 2.0002458532838414, 1.7547886394176546, 2.3546920113327103, 1.2630127229032855, 14.021558421168754, 1.2129613574836473, 1.250808903392524, 15.558486083056646, 17.771245920366574, 17.26742642807378, 14.130670215213494, 13.722977605493773, 13.980704957999476, 34.26295278687905, 54.6375793127463, 23.0413215526649, 19.867109879623786, 14.860415553017026, 40.42206232089402, 27.195809659268473, 22.90599602354345, 29.7035382224123, 17.499538445905532, 17.027483723630926, 16.555894553416167, 15.617418439455191, 15.377094138270373, 14.911267869767302, 14.675901924015994, 14.674675518266108, 14.43779238505763, 13.969757380891988, 13.969632329691446, 13.734370342167095, 15.61002384557258, 17.224434844560534, 52.469772202979705, 15.67674092102281, 21.231977787844475, 13.932249553934454, 1.6835889841331735, 1.4490038550647633, 1.4123775072399616, 1.2133448676447167, 13.810210128692956, 1.4304042781203998, 2.52023349486783, 1.6587736657004597, 16.630040875491325, 28.57725780485287, 13.891240293361767, 41.15579346018563, 13.2276689041377, 55.56911347596142, 27.882078594711267, 27.691696428412502, 16.53972226924014, 83.00653550557197, 29.29292535620097, 27.17592272760396, 26.93900136209656, 30.80893490145875, 17.952035411290844, 17.016465432850655, 15.36918498531304, 14.899998899700876, 14.66485950451936, 14.428961096651069, 14.194058294613358, 14.194051456661224, 14.190334345881675, 13.959345587644945, 13.959449524517368, 13.959277208123614, 14.733978892271088, 15.656127338264444, 33.88945148368305, 3.322520255654621, 13.520548728902671, 2.3885520675016085, 2.153959708490739, 1.913997676618555, 13.152437148950604, 35.60049036450004, 14.161586227523726, 1.4479676478134185, 14.055157605343416, 84.12339737373601, 13.59602194177647, 13.363981506501672, 14.27443568675701, 26.287380550338426, 17.618871196608385, 25.40479368132964, 30.87587817098925, 10.450934467426627, 10.295603028197142, 9.519776721792041, 9.519618874664213, 10.818362023070586, 9.503006560620793, 9.209530384364845, 9.209672885244135, 9.209663019798645, 9.05461439000652, 9.054602880320116, 9.506083483452853, 9.240238227691295, 9.988036803461211, 11.068960780908691, 11.009376778634973, 11.023591789424486, 11.023318845432616, 19.046231254019748, 10.700487488042864, 10.136658643597343, 19.10782013404902, 13.172952282651174, 0.7998965546882627, 26.320177675787395, 9.852411043516357, 17.360716603686065, 15.389954654795138, 12.830090782436255, 11.97243060569717, 10.090147452757597, 9.958153272913425, 9.670879173388434], \"Total\": [368.0, 253.0, 206.0, 320.0, 228.0, 101.0, 83.0, 103.0, 186.0, 159.0, 124.0, 81.0, 158.0, 145.0, 72.0, 71.0, 124.0, 89.0, 111.0, 67.0, 91.0, 159.0, 59.0, 84.0, 82.0, 61.0, 61.0, 117.0, 126.0, 66.0, 91.81638368700466, 66.14220395993304, 67.36787544031479, 48.589453568424595, 45.91365271139453, 40.78796971803464, 39.487404362945554, 38.83739387326233, 38.827559225939225, 22.425935960444452, 19.86164916091099, 17.9100161393808, 17.260135669804455, 17.25709108376449, 16.603008138833452, 15.221060727827831, 8.791192681797135, 14.524223527270983, 8.157695804053073, 8.122583978480053, 7.509401403648431, 7.507924230890231, 7.506825807923057, 12.815707491699188, 16.86247628731266, 7.504744118012656, 6.859820578891794, 6.859845881286863, 6.858872837131113, 27.604953785536576, 18.508172236275804, 21.782091545965535, 54.68165720535124, 47.18700741987549, 13.615828949314896, 58.90293564598457, 12.929825121158348, 29.338513393975564, 145.94124500609595, 253.2517588344236, 57.809724745545886, 82.14118703105913, 37.656514686594164, 368.4180601340732, 74.44325379414231, 90.34202693043109, 67.60242211683612, 37.77743509641551, 52.6505746802964, 42.751372713000805, 39.57608449229785, 38.00815163758726, 36.953799396876484, 33.790986710528216, 33.7909666817708, 40.20276347881883, 32.206716200944136, 33.18385259912119, 31.95631971661285, 66.1503462368042, 25.408645102919188, 11.551440331356996, 71.46280710972849, 9.954197853551845, 55.94771879254473, 14.216449078350836, 7.860062089416525, 7.3339948762592115, 9.030467614468604, 6.805262792998536, 82.13768337652319, 12.685122506245001, 5.752001224390591, 5.225722777692541, 5.225722782088002, 5.2249962305223425, 57.22112265355539, 4.698525699252885, 42.37987224719471, 92.77505243435606, 35.551604309305944, 128.4409966148893, 65.35999382788157, 60.87147936555815, 53.593706537323705, 56.63041203966635, 74.44325379414231, 29.808941688938052, 99.37330227381695, 88.14650535024423, 126.3782977974451, 186.43975477121103, 60.66490098304406, 52.66768126820975, 47.179332963570666, 29.422563558509584, 30.292330586889783, 35.443944170665645, 24.832823246748273, 16.992651009747703, 15.199604128263413, 15.186420310416384, 15.180677375145098, 13.423005906834641, 13.432424832673611, 15.09083394560433, 11.663585442791996, 14.733717254273623, 10.772645050158088, 9.883918545339338, 9.863017348435635, 9.000666994426455, 9.000239075209482, 8.997839193926671, 8.997869909717595, 8.996062460392192, 8.955661758431322, 12.799028503253705, 10.632898922539542, 8.891122807658022, 8.110835390755005, 8.110006649170934, 111.06324116091464, 76.98688089429494, 52.312364385336444, 21.114321732541946, 45.357580239505225, 23.470866535369602, 42.2338186036057, 27.35939444569384, 44.40899331273588, 23.40942800263191, 67.60242211683612, 72.49013896176301, 23.12766321009621, 159.13241132553887, 68.98246263044894, 99.37330227381695, 92.77505243435606, 79.89636993683584, 158.50196228830387, 228.05759951701987, 52.2051958515329, 46.56385754152912, 45.93062631828183, 40.8788859663947, 37.72883028301782, 23.060796708634832, 20.569856421980468, 20.568307441185986, 56.09420187712383, 11.71261856011945, 9.841658219256848, 9.201862751692346, 8.581530673909644, 8.581125362501973, 8.578504287936894, 7.948645916058558, 7.948782487349976, 7.319067819474865, 7.318230903190354, 7.313638554302578, 7.288624567817448, 6.057233183660147, 6.056026771634249, 6.054193626533819, 6.051241108807383, 7.803064936807551, 6.015934064913427, 89.50484167621781, 8.245748692244918, 5.425378166207413, 71.18657384520348, 124.98206670984885, 13.663936106608135, 55.99268657924381, 368.4180601340732, 8.623494947773848, 10.11918895957902, 90.34202693043109, 19.469939791181616, 117.02984530516574, 126.3782977974451, 52.19411294689232, 17.390571810333117, 20.10810719697805, 21.78355318024017, 57.28906543558226, 206.5888989460537, 159.50194333708365, 16.17566433233354, 17.496879628000517, 37.77743509641551, 67.60242211683612, 66.10380063283856, 47.416117673840276, 40.548905320765485, 37.70964013660903, 37.13627184900654, 35.41724142075542, 34.851772135938035, 34.27924597803273, 65.7297865828602, 13.01588738926051, 12.445391467795677, 12.428754677153716, 9.014149661364263, 8.441924848895244, 8.441867317859268, 7.862506058960357, 8.33349958697488, 6.72645029418785, 7.2200839652550615, 6.154782714939915, 6.1552270676427545, 6.1534418433056794, 6.136074601160444, 12.055751772842246, 5.579900295170091, 82.37588531886757, 16.364730325882686, 5.951895687178276, 84.62296152996697, 5.009765853895787, 5.008859329854951, 39.83651393532195, 18.78330039745274, 54.14414855096128, 18.995688975549935, 49.70659692159114, 16.63279084847373, 7.986921260980976, 30.39538782947085, 206.5888989460537, 320.97768690280594, 29.28264362181532, 26.250566585762098, 117.02984530516574, 72.49013896176301, 34.03995877673884, 228.05759951701987, 81.15252431442308, 26.058760120244973, 25.36236554024386, 23.9465382557509, 23.595639329891913, 23.594466877789312, 22.891721022262644, 22.89125470185961, 21.484863716893997, 22.557072875725893, 21.75019261441071, 22.392880383018678, 25.693065673588386, 40.51399586848916, 33.40338849566356, 34.27789969657702, 8.802931240078689, 3.824037684685906, 3.824037687628564, 3.82377439043042, 3.8237836492849184, 3.8225694093797453, 3.8243586535295813, 3.820725819952598, 39.92422212610719, 3.4717156736082306, 3.120199790731168, 4.158693839560879, 6.301438764428712, 3.4616015964537663, 228.05759951701987, 41.87661676257872, 78.39469634242045, 89.41144815924045, 68.78987594192024, 39.34423731975433, 47.106268781132506, 89.668459784299, 68.98246263044894, 56.63041203966635, 55.99268657924381, 86.77379454758876, 124.45705604013523, 145.94124500609595, 126.3782977974451, 101.92681277382833, 71.40538908168378, 46.45382243407122, 44.597313095427296, 40.44266720760392, 40.441502777565304, 30.044787843802823, 25.216450116507758, 24.84557826476255, 24.845461575130035, 24.474169574998285, 24.10291340570559, 23.730788533153344, 23.731311453552784, 22.98864173231536, 22.617471706589917, 54.08660845343704, 37.6920118540252, 9.888261737896377, 6.586492856492426, 5.834554497406393, 5.488406244073769, 4.3506731927928595, 58.49082677693024, 3.607747228208564, 3.6077833811065405, 6.449555642068694, 3.2355186586034503, 3.234937034123492, 7.539940325877547, 7.824474075004079, 253.2517588344236, 47.106268781132506, 46.720142917070625, 158.50196228830387, 26.250566585762098, 186.43975477121103, 12.636508293057338, 228.05759951701987, 320.97768690280594, 18.133073569528737, 72.46436309044213, 67.0869093358735, 61.67492483244029, 23.931536902998694, 22.920705174561547, 21.578328611006594, 21.241973758940595, 20.90600376331016, 20.56979599907131, 25.36380313890351, 11.769730471052219, 16.255864820631746, 24.660162664924524, 4.7059147637389955, 4.370469468022274, 4.369887264241337, 4.033823394816086, 38.728600169697025, 11.112623423934897, 3.362731797010521, 6.818151906925185, 3.369459531612473, 3.025066216175303, 3.025225141800725, 3.0026965389691678, 2.6878758292087537, 36.21765613362421, 4.286333247254847, 36.31868945813735, 35.38796634859057, 35.91067881633642, 41.81417702512127, 16.015225355197007, 40.53999521064124, 39.34423731975433, 46.76926141554821, 368.4180601340732, 320.97768690280594, 81.00506306799448, 159.13241132553887, 79.89636993683584, 60.87147936555815, 88.14650535024423, 89.41144815924045, 77.30273924860586, 124.45705604013523, 186.43975477121103, 39.229054027950525, 27.146071082720614, 24.753307933768717, 23.03540507455119, 22.00423281791931, 21.663637777808166, 21.663105247067456, 21.662558771164164, 21.662180565962057, 20.978095411352733, 20.97801388433927, 15.478895651690523, 4.783985022539533, 4.440030456393187, 4.0975328037103615, 4.096773197233265, 4.094528780901031, 4.492834796047755, 3.754009062925449, 3.7574933189974655, 3.7536820499368866, 7.536352569285911, 8.182108582132114, 3.0675460969033277, 3.067140034283923, 3.068460985704465, 3.067803719434359, 3.4181094364597135, 5.146067031112364, 9.338246576486933, 33.40015778480218, 34.03995877673884, 33.537189610541425, 34.280243779759275, 34.29451086563716, 81.00506306799448, 320.97768690280594, 159.50194333708365, 78.39469634242045, 57.809724745545886, 79.89636993683584, 88.14650535024423, 77.30273924860586, 65.35999382788157, 124.98206670984885, 124.45705604013523, 128.4409966148893, 158.50196228830387, 48.062239845615366, 44.08947841344095, 28.144701442106456, 29.25136124572709, 25.25636463992935, 23.812624179017632, 23.091870832789173, 22.73093634661108, 22.727843718063294, 22.368738461534793, 7.504903623035981, 7.144955091142544, 14.276876114929568, 5.719474022864951, 36.06718358958523, 4.9779298022857, 4.96699673162062, 3.947996825835142, 5.675011936363634, 3.174176584044053, 3.173186250704614, 3.1733461392801168, 3.1725811135386452, 3.172641290903191, 5.924615238365043, 2.8127786143757683, 2.8127696813700678, 2.812553984542556, 2.81179704924604, 5.7607929999852265, 52.19411294689232, 58.031170269874806, 40.53999521064124, 46.76926141554821, 158.50196228830387, 159.50194333708365, 89.668459784299, 68.78987594192024, 59.444353516968064, 53.593706537323705, 46.720142917070625, 77.30273924860586, 25.38285362909165, 145.94124500609595, 206.5888989460537, 186.43975477121103, 228.05759951701987, 47.706328122570945, 59.565917523590464, 32.94921598762571, 31.722251293885112, 31.721773356387455, 30.49781115990338, 28.046846919175906, 26.411142947461187, 26.004132692105205, 25.186484128846597, 24.778618543524328, 25.817888856957023, 25.620247837765497, 15.831874302533537, 9.589268106587511, 8.769194008727274, 7.548963039646706, 31.826585535179852, 7.543514021839971, 6.720683455095875, 5.909901089961497, 6.388386231319204, 5.117499272166644, 5.717400949097374, 40.44375979041035, 3.8668656218700757, 3.8671141835643663, 3.458468726264095, 3.4583890183573183, 3.4897227795169354, 57.28906543558226, 20.585759424047858, 25.179775899560397, 29.128613620561058, 58.031170269874806, 99.37330227381695, 126.3782977974451, 159.13241132553887, 117.02984530516574, 320.97768690280594, 79.89636993683584, 21.12318417035869, 32.23830306581349, 31.25854423389978, 29.540439777030866, 22.631344292250777, 19.934305734816594, 18.707807551222537, 20.20488559679567, 18.466043316493472, 18.217581078366315, 17.98369663509411, 17.482564579723523, 16.98971667174305, 16.9914501494967, 16.01057555061875, 16.009112357666464, 15.765416937896575, 15.273441781021216, 25.22239029561231, 24.93083696894653, 20.9700737048927, 103.10156405081797, 40.17804104656162, 24.952599745231943, 2.9701881515330553, 2.7248138557146016, 3.934908088148531, 2.233194052185961, 24.816048682491093, 2.259378815974176, 2.8231323690689907, 35.678826721500585, 41.81417702512127, 41.87661676257872, 35.91067881633642, 35.38796634859057, 36.31868945813735, 117.02984530516574, 320.97768690280594, 89.41144815924045, 159.50194333708365, 81.00506306799448, 41.39407189527553, 28.167439504698205, 23.8959539096634, 31.02326516751262, 18.474962936013412, 18.002430266372013, 17.532852115540607, 16.589262956479804, 16.353914369153394, 15.883269501947732, 15.647514363839305, 15.646302651083818, 15.413692147158788, 14.941277820670832, 14.941206170671961, 14.70588755998816, 16.95348166316932, 18.98013537429139, 61.69685159923288, 18.620764681090527, 25.34334466985791, 18.257862753173654, 2.657141919698473, 2.42131456178623, 2.426726596259665, 2.184893977074408, 25.38285362909165, 2.763641998712338, 4.894172097437805, 3.330922460662636, 35.678826721500585, 66.10380063283856, 34.280243779759275, 124.45705604013523, 33.537189610541425, 186.43975477121103, 86.77379454758876, 159.13241132553887, 103.10156405081797, 83.98986204791736, 30.26457348401069, 28.147562355981396, 27.913208197876116, 31.949859354034817, 18.93804751224049, 17.988326935319094, 16.341811469479573, 15.871703934147055, 15.636530503066856, 15.401034655147416, 15.165617830640931, 15.165612261728512, 15.171124143972806, 14.930930091450806, 14.931060943187434, 14.930920822409865, 16.32923690503562, 19.016586933451325, 43.497785330037594, 4.304387202881552, 18.874000905678045, 3.360772720232818, 3.1255212571860076, 2.8928565529775696, 20.025167047806367, 59.444353516968064, 24.96096366587208, 2.890471709186785, 34.10995733686358, 206.5888989460537, 34.29451086563716, 58.49082677693024, 158.50196228830387, 27.39387160035149, 18.603223589928177, 27.026876951556165, 33.274668878676415, 11.435893688154076, 11.280914410410748, 10.50443000891854, 10.504783792155242, 11.95842168861335, 10.514537176240427, 10.193928846749724, 10.194437240702097, 10.194462175269507, 10.038976521056554, 10.038983874430192, 10.757885317668988, 10.522383444405786, 11.653433974799078, 13.115715515508487, 13.081886130095022, 14.671479610466205, 15.360309522619577, 28.472056306567385, 16.342242594482112, 15.654708168353764, 34.10995733686358, 29.128613620561058, 1.7843767579580048, 66.10380063283856, 24.96096366587208, 49.70659692159114, 86.77379454758876, 89.50484167621781, 186.43975477121103, 33.40015778480218, 78.39469634242045, 40.17804104656162], \"Category\": [\"Default\", \"Default\", \"Default\", \"Default\", \"Default\", \"Default\", \"Default\", \"Default\", \"Default\", \"Default\", \"Default\", \"Default\", \"Default\", \"Default\", \"Default\", \"Default\", \"Default\", \"Default\", \"Default\", \"Default\", \"Default\", \"Default\", \"Default\", \"Default\", \"Default\", \"Default\", \"Default\", \"Default\", \"Default\", \"Default\", \"Topic1\", \"Topic1\", \"Topic1\", \"Topic1\", \"Topic1\", \"Topic1\", \"Topic1\", \"Topic1\", \"Topic1\", \"Topic1\", \"Topic1\", \"Topic1\", \"Topic1\", \"Topic1\", \"Topic1\", \"Topic1\", \"Topic1\", \"Topic1\", \"Topic1\", \"Topic1\", \"Topic1\", \"Topic1\", \"Topic1\", \"Topic1\", \"Topic1\", \"Topic1\", \"Topic1\", \"Topic1\", \"Topic1\", \"Topic1\", \"Topic1\", \"Topic1\", \"Topic1\", \"Topic1\", \"Topic1\", \"Topic1\", \"Topic1\", \"Topic1\", \"Topic1\", \"Topic1\", \"Topic1\", \"Topic1\", \"Topic1\", \"Topic1\", \"Topic1\", \"Topic1\", \"Topic1\", \"Topic1\", \"Topic2\", \"Topic2\", \"Topic2\", \"Topic2\", \"Topic2\", \"Topic2\", \"Topic2\", \"Topic2\", \"Topic2\", \"Topic2\", \"Topic2\", \"Topic2\", \"Topic2\", \"Topic2\", \"Topic2\", \"Topic2\", \"Topic2\", \"Topic2\", \"Topic2\", \"Topic2\", \"Topic2\", \"Topic2\", \"Topic2\", \"Topic2\", \"Topic2\", \"Topic2\", \"Topic2\", \"Topic2\", \"Topic2\", \"Topic2\", \"Topic2\", \"Topic2\", \"Topic2\", \"Topic2\", \"Topic2\", \"Topic2\", \"Topic2\", \"Topic2\", \"Topic2\", \"Topic2\", \"Topic2\", \"Topic2\", \"Topic2\", \"Topic2\", \"Topic3\", \"Topic3\", \"Topic3\", \"Topic3\", \"Topic3\", \"Topic3\", \"Topic3\", \"Topic3\", \"Topic3\", \"Topic3\", \"Topic3\", \"Topic3\", \"Topic3\", \"Topic3\", \"Topic3\", \"Topic3\", \"Topic3\", \"Topic3\", \"Topic3\", \"Topic3\", \"Topic3\", \"Topic3\", \"Topic3\", \"Topic3\", \"Topic3\", \"Topic3\", \"Topic3\", \"Topic3\", \"Topic3\", \"Topic3\", \"Topic3\", \"Topic3\", \"Topic3\", \"Topic3\", \"Topic3\", \"Topic3\", \"Topic3\", \"Topic3\", \"Topic3\", \"Topic3\", \"Topic3\", \"Topic3\", \"Topic3\", \"Topic3\", \"Topic3\", \"Topic3\", \"Topic3\", \"Topic3\", \"Topic3\", \"Topic3\", \"Topic4\", \"Topic4\", \"Topic4\", \"Topic4\", \"Topic4\", \"Topic4\", \"Topic4\", \"Topic4\", \"Topic4\", \"Topic4\", \"Topic4\", \"Topic4\", \"Topic4\", \"Topic4\", \"Topic4\", \"Topic4\", \"Topic4\", \"Topic4\", \"Topic4\", \"Topic4\", \"Topic4\", \"Topic4\", \"Topic4\", \"Topic4\", \"Topic4\", \"Topic4\", \"Topic4\", \"Topic4\", \"Topic4\", \"Topic4\", \"Topic4\", \"Topic4\", \"Topic4\", \"Topic4\", \"Topic4\", \"Topic4\", \"Topic4\", \"Topic4\", \"Topic4\", \"Topic4\", \"Topic4\", \"Topic4\", \"Topic4\", \"Topic4\", \"Topic4\", \"Topic4\", \"Topic4\", \"Topic4\", \"Topic4\", \"Topic4\", \"Topic4\", \"Topic4\", \"Topic4\", \"Topic5\", \"Topic5\", \"Topic5\", \"Topic5\", \"Topic5\", \"Topic5\", \"Topic5\", \"Topic5\", \"Topic5\", \"Topic5\", \"Topic5\", \"Topic5\", \"Topic5\", \"Topic5\", \"Topic5\", \"Topic5\", \"Topic5\", \"Topic5\", \"Topic5\", \"Topic5\", \"Topic5\", \"Topic5\", \"Topic5\", \"Topic5\", \"Topic5\", \"Topic5\", \"Topic5\", \"Topic5\", \"Topic5\", \"Topic5\", \"Topic5\", \"Topic5\", \"Topic5\", \"Topic5\", \"Topic5\", \"Topic5\", \"Topic5\", \"Topic5\", \"Topic5\", \"Topic5\", \"Topic5\", \"Topic5\", \"Topic5\", \"Topic5\", \"Topic5\", \"Topic5\", \"Topic6\", \"Topic6\", \"Topic6\", \"Topic6\", \"Topic6\", \"Topic6\", \"Topic6\", \"Topic6\", \"Topic6\", \"Topic6\", \"Topic6\", \"Topic6\", \"Topic6\", \"Topic6\", \"Topic6\", \"Topic6\", \"Topic6\", \"Topic6\", \"Topic6\", \"Topic6\", \"Topic6\", \"Topic6\", \"Topic6\", \"Topic6\", \"Topic6\", \"Topic6\", \"Topic6\", \"Topic6\", \"Topic6\", \"Topic6\", \"Topic6\", \"Topic6\", \"Topic6\", \"Topic6\", \"Topic6\", \"Topic6\", \"Topic6\", \"Topic6\", \"Topic6\", \"Topic6\", \"Topic6\", \"Topic6\", \"Topic6\", \"Topic6\", \"Topic6\", \"Topic7\", \"Topic7\", \"Topic7\", \"Topic7\", \"Topic7\", \"Topic7\", \"Topic7\", \"Topic7\", \"Topic7\", \"Topic7\", \"Topic7\", \"Topic7\", \"Topic7\", \"Topic7\", \"Topic7\", \"Topic7\", \"Topic7\", \"Topic7\", \"Topic7\", \"Topic7\", \"Topic7\", \"Topic7\", \"Topic7\", \"Topic7\", \"Topic7\", \"Topic7\", \"Topic7\", \"Topic7\", \"Topic7\", \"Topic7\", \"Topic7\", \"Topic7\", \"Topic7\", \"Topic7\", \"Topic7\", \"Topic7\", \"Topic7\", \"Topic7\", \"Topic7\", \"Topic7\", \"Topic7\", \"Topic8\", \"Topic8\", \"Topic8\", \"Topic8\", \"Topic8\", \"Topic8\", \"Topic8\", \"Topic8\", \"Topic8\", \"Topic8\", \"Topic8\", \"Topic8\", \"Topic8\", \"Topic8\", \"Topic8\", \"Topic8\", \"Topic8\", \"Topic8\", \"Topic8\", \"Topic8\", \"Topic8\", \"Topic8\", \"Topic8\", \"Topic8\", \"Topic8\", \"Topic8\", \"Topic8\", \"Topic8\", \"Topic8\", \"Topic8\", \"Topic8\", \"Topic8\", \"Topic8\", \"Topic8\", \"Topic8\", \"Topic8\", \"Topic8\", \"Topic8\", \"Topic8\", \"Topic8\", \"Topic8\", \"Topic8\", \"Topic8\", \"Topic8\", \"Topic8\", \"Topic8\", \"Topic8\", \"Topic9\", \"Topic9\", \"Topic9\", \"Topic9\", \"Topic9\", \"Topic9\", \"Topic9\", \"Topic9\", \"Topic9\", \"Topic9\", \"Topic9\", \"Topic9\", \"Topic9\", \"Topic9\", \"Topic9\", \"Topic9\", \"Topic9\", \"Topic9\", \"Topic9\", \"Topic9\", \"Topic9\", \"Topic9\", \"Topic9\", \"Topic9\", \"Topic9\", \"Topic9\", \"Topic9\", \"Topic9\", \"Topic9\", \"Topic9\", \"Topic9\", \"Topic9\", \"Topic9\", \"Topic9\", \"Topic9\", \"Topic9\", \"Topic9\", \"Topic9\", \"Topic9\", \"Topic9\", \"Topic9\", \"Topic9\", \"Topic9\", \"Topic9\", \"Topic9\", \"Topic9\", \"Topic9\", \"Topic9\", \"Topic10\", \"Topic10\", \"Topic10\", \"Topic10\", \"Topic10\", \"Topic10\", \"Topic10\", \"Topic10\", \"Topic10\", \"Topic10\", \"Topic10\", \"Topic10\", \"Topic10\", \"Topic10\", \"Topic10\", \"Topic10\", \"Topic10\", \"Topic10\", \"Topic10\", \"Topic10\", \"Topic10\", \"Topic10\", \"Topic10\", \"Topic10\", \"Topic10\", \"Topic10\", \"Topic10\", \"Topic10\", \"Topic10\", \"Topic10\", \"Topic10\", \"Topic10\", \"Topic10\", \"Topic10\", \"Topic10\", \"Topic10\", \"Topic10\", \"Topic10\", \"Topic10\", \"Topic10\", \"Topic10\", \"Topic10\", \"Topic10\", \"Topic10\", \"Topic10\", \"Topic10\", \"Topic10\", \"Topic11\", \"Topic11\", \"Topic11\", \"Topic11\", \"Topic11\", \"Topic11\", \"Topic11\", \"Topic11\", \"Topic11\", \"Topic11\", \"Topic11\", \"Topic11\", \"Topic11\", \"Topic11\", \"Topic11\", \"Topic11\", \"Topic11\", \"Topic11\", \"Topic11\", \"Topic11\", \"Topic11\", \"Topic11\", \"Topic11\", \"Topic11\", \"Topic11\", \"Topic11\", \"Topic11\", \"Topic11\", \"Topic11\", \"Topic11\", \"Topic11\", \"Topic11\", \"Topic11\", \"Topic11\", \"Topic11\", \"Topic11\", \"Topic11\", \"Topic11\", \"Topic11\", \"Topic11\", \"Topic11\", \"Topic11\", \"Topic12\", \"Topic12\", \"Topic12\", \"Topic12\", \"Topic12\", \"Topic12\", \"Topic12\", \"Topic12\", \"Topic12\", \"Topic12\", \"Topic12\", \"Topic12\", \"Topic12\", \"Topic12\", \"Topic12\", \"Topic12\", \"Topic12\", \"Topic12\", \"Topic12\", \"Topic12\", \"Topic12\", \"Topic12\", \"Topic12\", \"Topic12\", \"Topic12\", \"Topic12\", \"Topic12\", \"Topic12\", \"Topic12\", \"Topic12\", \"Topic12\", \"Topic12\", \"Topic12\", \"Topic12\", \"Topic12\", \"Topic12\", \"Topic12\", \"Topic12\", \"Topic12\", \"Topic12\", \"Topic12\", \"Topic13\", \"Topic13\", \"Topic13\", \"Topic13\", \"Topic13\", \"Topic13\", \"Topic13\", \"Topic13\", \"Topic13\", \"Topic13\", \"Topic13\", \"Topic13\", \"Topic13\", \"Topic13\", \"Topic13\", \"Topic13\", \"Topic13\", \"Topic13\", \"Topic13\", \"Topic13\", \"Topic13\", \"Topic13\", \"Topic13\", \"Topic13\", \"Topic13\", \"Topic13\", \"Topic13\", \"Topic13\", \"Topic13\", \"Topic13\", \"Topic13\", \"Topic13\", \"Topic13\", \"Topic13\", \"Topic13\", \"Topic13\", \"Topic13\", \"Topic13\", \"Topic13\", \"Topic14\", \"Topic14\", \"Topic14\", \"Topic14\", \"Topic14\", \"Topic14\", \"Topic14\", \"Topic14\", \"Topic14\", \"Topic14\", \"Topic14\", \"Topic14\", \"Topic14\", \"Topic14\", \"Topic14\", \"Topic14\", \"Topic14\", \"Topic14\", \"Topic14\", \"Topic14\", \"Topic14\", \"Topic14\", \"Topic14\", \"Topic14\", \"Topic14\", \"Topic14\", \"Topic14\", \"Topic14\", \"Topic14\", \"Topic14\", \"Topic14\", \"Topic14\", \"Topic14\", \"Topic14\", \"Topic15\", \"Topic15\", \"Topic15\", \"Topic15\", \"Topic15\", \"Topic15\", \"Topic15\", \"Topic15\", \"Topic15\", \"Topic15\", \"Topic15\", \"Topic15\", \"Topic15\", \"Topic15\", \"Topic15\", \"Topic15\", \"Topic15\", \"Topic15\", \"Topic15\", \"Topic15\", \"Topic15\", \"Topic15\", \"Topic15\", \"Topic15\", \"Topic15\", \"Topic15\", \"Topic15\", \"Topic15\", \"Topic15\", \"Topic15\", \"Topic15\", \"Topic15\", \"Topic15\", \"Topic15\", \"Topic15\", \"Topic15\", \"Topic15\"], \"logprob\": [30.0, 29.0, 28.0, 27.0, 26.0, 25.0, 24.0, 23.0, 22.0, 21.0, 20.0, 19.0, 18.0, 17.0, 16.0, 15.0, 14.0, 13.0, 12.0, 11.0, 10.0, 9.0, 8.0, 7.0, 6.0, 5.0, 4.0, 3.0, 2.0, 1.0, -3.2751, -3.6036, -3.5863, -3.917, -3.9757, -4.0956, -4.1288, -4.1458, -4.146, -4.7145, -4.8396, -4.9483, -4.9871, -4.989, -5.0287, -5.1471, -5.7175, -5.222, -5.8008, -5.8103, -5.8939, -5.8943, -5.8949, -5.3619, -5.0881, -5.8989, -5.9974, -5.9974, -5.9976, -4.6067, -5.0118, -4.8563, -3.9695, -4.1491, -5.3316, -3.9579, -5.4005, -4.6665, -3.2397, -2.9203, -4.163, -3.9194, -4.5296, -3.0541, -4.3001, -4.2138, -4.7551, -4.9675, -3.6777, -3.8888, -3.9679, -4.0091, -4.038, -4.1298, -4.1298, -3.957, -4.1792, -4.1495, -4.1907, -3.4633, -4.4578, -5.2589, -3.4481, -5.4234, -3.7144, -5.0849, -5.6862, -5.7647, -5.5676, -5.8511, -3.363, -5.2482, -6.0492, -6.1635, -6.1635, -6.1637, -3.7799, -6.2943, -4.0949, -3.4378, -4.3764, -3.2412, -3.8913, -3.9596, -4.148, -4.1094, -3.9901, -4.6801, -3.8935, -4.0952, -4.1438, -4.0521, -3.5282, -3.6718, -3.7839, -4.2674, -4.2384, -4.0817, -4.4525, -4.8388, -4.9575, -4.9591, -4.9638, -5.0897, -5.0893, -4.9771, -5.2401, -5.0125, -5.3266, -5.4208, -5.4284, -5.5232, -5.5232, -5.5237, -5.5237, -5.524, -5.5326, -5.1756, -5.3618, -5.5467, -5.6391, -5.6392, -3.0496, -3.4325, -3.8219, -4.7117, -4.0001, -4.627, -4.1463, -4.538, -4.1557, -4.722, -4.1389, -4.16, -4.8911, -3.8363, -4.3892, -4.2811, -4.3854, -4.4775, -4.7744, -4.9005, -3.5519, -3.6679, -3.682, -3.801, -3.883, -4.3959, -4.5105, -4.5108, -3.5319, -5.1149, -5.2997, -5.3748, -5.4513, -5.4515, -5.4538, -5.5376, -5.5376, -5.6311, -5.6321, -5.6328, -5.6415, -5.8503, -5.8506, -5.851, -5.8521, -5.6024, -5.863, -3.1638, -5.5495, -5.9812, -3.4466, -2.8974, -5.0795, -3.9111, -2.367, -5.5534, -5.4232, -3.7086, -4.9203, -3.701, -3.7297, -4.3427, -5.07, -4.9806, -4.9466, -4.4877, -3.8213, -4.0569, -5.1878, -5.1801, -4.9516, -4.9191, -5.1791, -3.5464, -3.7059, -3.7799, -3.7957, -3.8443, -3.8608, -3.8778, -3.233, -4.8923, -4.9408, -4.9435, -5.294, -5.3671, -5.3672, -5.4487, -5.408, -5.6259, -5.564, -5.7295, -5.7297, -5.73, -5.7388, -5.0662, -5.8463, -3.1577, -4.7814, -5.7976, -3.1453, -5.9762, -5.9765, -3.9771, -4.7035, -3.725, -4.7242, -3.9367, -4.9769, -5.5457, -4.6711, -3.447, -3.3105, -4.8368, -4.9352, -4.5366, -4.7138, -4.9603, -4.7939, -2.7257, -3.887, -3.9158, -3.975, -3.9903, -3.9903, -4.0219, -4.0225, -4.0882, -4.0425, -4.0837, -4.0588, -3.9224, -3.5482, -3.7811, -3.7651, -5.1793, -6.0554, -6.0554, -6.0555, -6.0557, -6.0561, -6.056, -6.0572, -3.7349, -6.1867, -6.3366, -6.0578, -5.7265, -6.3511, -2.2876, -3.9481, -3.423, -3.3588, -3.5925, -4.1085, -4.0278, -3.6232, -3.8557, -4.0125, -4.1479, -4.0286, -3.9696, -3.9003, -4.0058, -2.4857, -2.8456, -3.2829, -3.3245, -3.4248, -3.4251, -3.7301, -3.9115, -3.9269, -3.9269, -3.9426, -3.9585, -3.9747, -3.9748, -4.0079, -4.0248, -3.1666, -3.5676, -4.9431, -5.3757, -5.5151, -5.597, -5.8766, -3.3116, -6.1231, -6.1231, -5.5678, -6.2757, -6.2803, -5.4606, -5.4352, -2.3794, -3.9061, -4.1631, -3.4436, -4.7255, -3.7086, -5.2033, -3.8395, -3.9952, -5.2079, -2.812, -2.8901, -2.9764, -3.9472, -3.9928, -4.0553, -4.0717, -4.0884, -4.1054, -3.9109, -4.702, -4.4034, -3.9886, -5.7598, -5.8535, -5.8543, -5.9578, -3.7436, -5.007, -6.2045, -5.5013, -6.2081, -6.3544, -6.3545, -6.3905, -6.5325, -3.9359, -6.0826, -4.022, -4.0492, -4.0441, -3.9899, -4.9308, -4.1435, -4.1733, -4.0358, -2.6536, -2.8877, -3.8803, -3.4843, -3.9857, -4.1634, -3.9637, -4.0214, -4.1093, -3.9636, -3.9572, -3.331, -3.7108, -3.8062, -3.8811, -3.9289, -3.9452, -3.9452, -3.9453, -3.9454, -3.9789, -3.9789, -4.4022, -5.633, -5.7276, -5.8306, -5.8314, -5.8337, -5.7503, -5.9463, -5.9487, -5.9651, -5.2989, -5.234, -6.2278, -6.2287, -6.2285, -6.2292, -6.1312, -5.7492, -5.1596, -3.8859, -3.8905, -4.0114, -4.0087, -4.0241, -3.2714, -2.4879, -3.1234, -3.6836, -3.9964, -3.8049, -3.8793, -3.9888, -4.0964, -3.7672, -3.7813, -3.8614, -4.3107, -3.1082, -3.1977, -3.6578, -3.6202, -3.7701, -3.8314, -3.8633, -3.8797, -3.8799, -3.8965, -5.0808, -5.1375, -4.4708, -5.4115, -3.5764, -5.5685, -5.5914, -5.9186, -5.5751, -6.162, -6.1624, -6.1624, -6.163, -6.1635, -5.5786, -6.3395, -6.3397, -6.3401, -6.3409, -5.6619, -3.6253, -3.569, -3.9276, -3.8248, -2.8065, -2.8899, -3.4394, -3.6819, -3.8284, -3.9501, -4.1582, -3.826, -4.6139, -3.6836, -3.5447, -3.7073, -3.6121, -3.0393, -2.818, -3.4181, -3.4572, -3.4573, -3.4978, -3.5844, -3.6466, -3.6627, -3.6959, -3.7129, -3.6748, -3.6826, -4.2042, -4.7298, -4.8274, -4.9994, -3.5638, -5.0038, -5.148, -5.2815, -5.2263, -5.4812, -5.3823, -3.4368, -5.8114, -5.8125, -5.9621, -5.9624, -5.9725, -3.3919, -4.3915, -4.2321, -4.1735, -3.701, -3.5854, -3.5585, -3.6621, -4.0097, -4.1923, -4.5738, -4.9031, -3.4083, -3.4402, -3.4985, -3.7755, -3.9091, -3.9753, -3.8991, -3.9892, -4.0037, -4.0179, -4.0472, -4.0771, -4.077, -4.1402, -4.1403, -4.1566, -4.1907, -3.7225, -3.737, -3.9574, -2.4015, -3.465, -3.9463, -6.1576, -6.2886, -5.9945, -6.6174, -4.2103, -6.6578, -6.6271, -4.1063, -3.9733, -4.0021, -4.2026, -4.2318, -4.2132, -3.3168, -2.8502, -3.7136, -3.8618, -4.1522, -2.9963, -3.3926, -3.5642, -3.3044, -3.8335, -3.8608, -3.8889, -3.9473, -3.9628, -3.9935, -4.0094, -4.0095, -4.0258, -4.0587, -4.0588, -4.0757, -3.9477, -3.8493, -2.7354, -3.9435, -3.6401, -4.0614, -6.1747, -6.3248, -6.3504, -6.5023, -4.0702, -6.3377, -5.7713, -6.1896, -3.8844, -3.343, -4.0644, -2.9783, -4.1133, -2.678, -3.3677, -3.3745, -3.8899, -2.1799, -3.2215, -3.2965, -3.3052, -3.171, -3.7111, -3.7646, -3.8664, -3.8974, -3.9134, -3.9296, -3.946, -3.946, -3.9462, -3.9627, -3.9627, -3.9627, -3.9087, -3.8479, -3.0757, -5.3981, -3.9946, -5.7281, -5.8315, -5.9496, -4.0222, -3.0264, -3.9483, -6.2286, -3.9558, -2.1665, -3.989, -4.0062, -3.9403, -3.1085, -3.5086, -3.1426, -2.9476, -4.0309, -4.0459, -4.1242, -4.1242, -3.9963, -4.126, -4.1573, -4.1573, -4.1573, -4.1743, -4.1743, -4.1256, -4.154, -4.0762, -3.9734, -3.9788, -3.9775, -3.9776, -3.4307, -4.0073, -4.0614, -3.4275, -3.7994, -6.6008, -3.1072, -4.0899, -3.5234, -3.6439, -3.8258, -3.895, -4.066, -4.0792, -4.1085], \"loglift\": [30.0, 29.0, 28.0, 27.0, 26.0, 25.0, 24.0, 23.0, 22.0, 21.0, 20.0, 19.0, 18.0, 17.0, 16.0, 15.0, 14.0, 13.0, 12.0, 11.0, 10.0, 9.0, 8.0, 7.0, 6.0, 5.0, 4.0, 3.0, 2.0, 1.0, 2.0925, 2.092, 2.0909, 2.087, 2.085, 2.0834, 2.0826, 2.0823, 2.0823, 2.0626, 2.059, 2.0537, 2.0519, 2.0502, 2.0492, 2.0176, 1.9962, 1.9896, 1.9876, 1.9825, 1.9774, 1.9772, 1.9767, 1.9748, 1.9742, 1.973, 1.9643, 1.9643, 1.9643, 1.9627, 1.9574, 1.95, 1.9164, 1.8842, 1.9445, 1.8536, 1.9273, 1.842, 1.6645, 1.4327, 1.6672, 1.5596, 1.7293, 0.9241, 1.2773, 1.17, 0.9187, 1.2882, 2.2461, 2.2432, 2.2412, 2.2405, 2.2398, 2.2374, 2.2374, 2.2365, 2.236, 2.2358, 2.2323, 2.2322, 2.1945, 2.1817, 2.1701, 2.166, 2.1486, 2.1481, 2.1395, 2.1302, 2.1192, 2.1186, 2.1161, 2.0988, 2.0887, 2.0703, 2.0703, 2.0703, 2.0606, 2.0459, 2.0459, 1.9195, 1.9401, 1.7907, 1.8162, 1.8191, 1.7579, 1.7415, 1.5873, 1.8125, 1.395, 1.3132, 0.9043, 0.6072, 2.2538, 2.2517, 2.2496, 2.2383, 2.2381, 2.2377, 2.2227, 2.2159, 2.2086, 2.2079, 2.2036, 2.2007, 2.2004, 2.1962, 2.1908, 2.1848, 2.1838, 2.1757, 2.1702, 2.1669, 2.1669, 2.1668, 2.1667, 2.1666, 2.1625, 2.1625, 2.1617, 2.1557, 2.1551, 2.1551, 2.1277, 2.1112, 2.1083, 2.1258, 2.0728, 2.1047, 1.9979, 2.0403, 1.9382, 2.0122, 1.5348, 1.444, 1.8553, 0.9814, 1.2644, 1.0074, 0.9719, 1.0292, 0.0472, -0.4427, 2.3803, 2.3787, 2.3783, 2.3758, 2.374, 2.3534, 2.3531, 2.3529, 2.3285, 2.3118, 2.3011, 2.2932, 2.2865, 2.2864, 2.2844, 2.2768, 2.2768, 2.2658, 2.265, 2.2649, 2.2596, 2.2359, 2.2357, 2.2356, 2.2351, 2.2305, 2.23, 2.2293, 2.2282, 2.2151, 2.1756, 2.1619, 2.1932, 1.9511, 1.6112, 2.1795, 2.1498, 1.6752, 1.9982, 1.424, 1.3184, 1.5897, 1.9615, 1.9057, 1.8597, 1.3516, 0.7354, 0.7584, 1.9161, 1.8453, 1.3041, 0.7547, 0.5171, 2.482, 2.479, 2.4775, 2.4771, 2.4759, 2.4755, 2.475, 2.4689, 2.429, 2.4253, 2.4239, 2.3947, 2.3871, 2.387, 2.3766, 2.3591, 2.3554, 2.3465, 2.3407, 2.3404, 2.3404, 2.3344, 2.3316, 2.3219, 2.3185, 2.3109, 2.3061, 2.3039, 2.2998, 2.2997, 2.2255, 2.251, 2.1708, 2.219, 2.0445, 2.0992, 2.2639, 1.802, 1.1097, 0.8055, 1.6736, 1.6846, 0.5884, 0.8901, 1.3996, -0.3361, 2.7654, 2.74, 2.7384, 2.7366, 2.7361, 2.7361, 2.7348, 2.7342, 2.7318, 2.7289, 2.7241, 2.7199, 2.7188, 2.6375, 2.5977, 2.5879, 2.5331, 2.4907, 2.4907, 2.4907, 2.4904, 2.4903, 2.49, 2.4898, 2.4655, 2.4561, 2.4129, 2.4044, 2.3201, 2.2946, 2.1702, 2.2046, 2.1026, 2.0354, 2.0638, 2.1066, 2.0072, 1.7681, 1.7979, 1.8384, 1.7143, 1.3955, 1.0939, 1.0039, 1.0423, 2.7774, 2.7734, 2.766, 2.7653, 2.7627, 2.7625, 2.7546, 2.7484, 2.7478, 2.7478, 2.7472, 2.7466, 2.746, 2.7458, 2.7445, 2.7439, 2.7302, 2.6904, 2.6529, 2.6267, 2.6085, 2.5877, 2.5405, 2.507, 2.4812, 2.4812, 2.4556, 2.4376, 2.4331, 2.4066, 2.395, 1.9736, 2.1289, 1.8801, 1.3781, 1.8942, 0.9507, 2.1475, 0.6183, 0.1208, 1.7818, 2.7924, 2.7913, 2.7891, 2.765, 2.7625, 2.7604, 2.7597, 2.759, 2.7582, 2.7432, 2.7198, 2.6956, 2.6936, 2.5788, 2.559, 2.5584, 2.5349, 2.4872, 2.4723, 2.4702, 2.4665, 2.4646, 2.4261, 2.426, 2.3974, 2.3661, 2.362, 2.3493, 2.2731, 2.2718, 2.2623, 2.1642, 2.1831, 2.0416, 2.0418, 2.0064, 1.3246, 1.2284, 1.6126, 1.3333, 1.521, 1.6153, 1.4447, 1.3727, 1.4303, 1.0998, 0.7021, 2.887, 2.8754, 2.8723, 2.8693, 2.8673, 2.8666, 2.8666, 2.8666, 2.8665, 2.865, 2.865, 2.7457, 2.6891, 2.6691, 2.6465, 2.6458, 2.6441, 2.6346, 2.6183, 2.615, 2.5996, 2.5687, 2.5515, 2.5387, 2.5379, 2.5377, 2.5373, 2.5271, 2.5, 2.4937, 2.4929, 2.4694, 2.3634, 2.3442, 2.3283, 2.2215, 1.6281, 1.692, 1.8421, 1.8339, 1.7018, 1.5292, 1.5509, 1.6111, 1.292, 1.2821, 1.1706, 0.511, 2.9067, 2.9035, 2.8923, 2.8913, 2.8882, 2.8858, 2.8846, 2.8839, 2.8839, 2.8832, 2.791, 2.7835, 2.758, 2.732, 2.7256, 2.7139, 2.6932, 2.5956, 2.5762, 2.5704, 2.5702, 2.5702, 2.5699, 2.5693, 2.5297, 2.5137, 2.5136, 2.5133, 2.5126, 2.4744, 2.3071, 2.2575, 2.2575, 2.2173, 2.0151, 1.9254, 1.9519, 1.9744, 1.974, 1.9559, 1.885, 1.7137, 2.0394, 1.2206, 1.012, 0.952, 0.8457, 2.9831, 2.9823, 2.9743, 2.9732, 2.9731, 2.9719, 2.9692, 2.967, 2.9664, 2.9652, 2.9646, 2.9616, 2.9614, 2.9212, 2.897, 2.8888, 2.8666, 2.8633, 2.863, 2.8342, 2.8293, 2.8066, 2.7735, 2.7616, 2.7506, 2.7235, 2.7224, 2.6844, 2.6842, 2.6651, 2.4474, 2.4713, 2.4293, 2.3422, 2.1254, 1.7031, 1.4896, 1.1556, 1.1152, -0.0762, 0.9329, 1.9339, 3.0059, 3.0049, 3.0031, 2.9926, 2.9859, 2.9832, 2.9824, 2.9822, 2.9813, 2.98, 2.9791, 2.9777, 2.9777, 2.974, 2.974, 2.973, 2.9706, 2.9371, 2.9343, 2.8869, 2.8502, 2.7291, 2.7242, 2.6411, 2.5964, 2.523, 2.4666, 2.4656, 2.4145, 2.2224, 2.2066, 2.1808, 2.1506, 2.1038, 2.0892, 2.0818, 1.8081, 1.2659, 1.6805, 0.9535, 1.3407, 3.168, 3.1567, 3.1495, 3.1483, 3.1375, 3.1361, 3.1344, 3.1314, 3.1302, 3.1286, 3.1277, 3.1277, 3.1264, 3.1245, 3.1245, 3.1234, 3.1092, 3.0947, 3.0298, 3.0197, 3.0148, 2.9214, 2.7354, 2.6783, 2.6505, 2.6036, 2.5831, 2.5332, 2.5281, 2.4946, 2.4284, 2.3532, 2.2885, 2.0852, 2.2614, 1.9813, 2.0564, 1.4432, 1.3618, 3.2768, 3.256, 3.2535, 3.2531, 3.2522, 3.2351, 3.2331, 3.2272, 3.2254, 3.2244, 3.2234, 3.2224, 3.2224, 3.2218, 3.2213, 3.2213, 3.2213, 3.1858, 3.0942, 3.039, 3.0297, 2.955, 2.9471, 2.9163, 2.8756, 2.8682, 2.7759, 2.7218, 2.5973, 2.402, 2.3902, 2.3634, 1.8123, 0.8813, 3.4686, 3.4555, 3.4479, 3.435, 3.4198, 3.4184, 3.4114, 3.4114, 3.4096, 3.4087, 3.4083, 3.4082, 3.4082, 3.4066, 3.4066, 3.3861, 3.3799, 3.3556, 3.3402, 3.3374, 3.224, 3.1781, 3.1078, 3.0864, 3.0752, 2.9303, 2.7163, 2.7075, 2.5889, 2.5802, 2.4579, 1.7802, 1.5673, 0.7643, 2.3128, 1.4465, 2.0856]}, \"token.table\": {\"Topic\": [3, 1, 13, 5, 1, 7, 9, 11, 3, 8, 9, 11, 8, 13, 14, 4, 6, 6, 13, 11, 2, 5, 6, 8, 12, 3, 5, 6, 7, 3, 1, 6, 10, 14, 6, 7, 9, 9, 5, 12, 5, 11, 11, 13, 14, 8, 14, 4, 13, 5, 12, 2, 4, 6, 10, 9, 3, 8, 1, 15, 10, 1, 4, 15, 10, 11, 1, 5, 6, 1, 9, 6, 1, 5, 10, 4, 12, 14, 2, 10, 11, 15, 1, 7, 1, 4, 9, 4, 7, 1, 3, 10, 3, 5, 7, 9, 10, 14, 15, 1, 3, 5, 7, 15, 7, 4, 8, 4, 9, 15, 6, 9, 12, 13, 15, 4, 14, 6, 8, 3, 4, 6, 4, 8, 9, 4, 1, 5, 14, 5, 1, 12, 14, 3, 5, 9, 8, 14, 14, 15, 3, 2, 9, 3, 11, 2, 11, 1, 11, 15, 9, 13, 15, 3, 7, 5, 1, 11, 1, 2, 13, 7, 1, 5, 6, 12, 7, 7, 5, 15, 8, 12, 2, 1, 8, 14, 2, 9, 15, 1, 3, 5, 7, 9, 7, 4, 9, 13, 13, 12, 2, 4, 5, 7, 8, 9, 3, 1, 2, 3, 5, 7, 9, 4, 13, 2, 5, 11, 3, 14, 2, 6, 1, 10, 9, 12, 5, 10, 2, 5, 9, 15, 6, 9, 1, 7, 4, 9, 7, 6, 9, 3, 7, 9, 11, 12, 10, 1, 9, 4, 2, 3, 3, 1, 4, 5, 9, 10, 14, 5, 9, 5, 10, 15, 11, 12, 5, 14, 4, 1, 6, 9, 2, 8, 4, 10, 14, 9, 13, 12, 8, 9, 5, 9, 3, 8, 8, 11, 12, 2, 3, 5, 13, 15, 1, 2, 7, 8, 10, 13, 15, 12, 15, 1, 4, 5, 7, 11, 1, 10, 4, 2, 4, 8, 9, 13, 2, 10, 11, 3, 3, 5, 11, 5, 4, 10, 7, 4, 1, 3, 10, 5, 9, 6, 4, 7, 10, 12, 3, 5, 2, 4, 6, 11, 6, 5, 6, 4, 10, 13, 14, 1, 3, 7, 2, 6, 5, 15, 15, 13, 2, 3, 4, 11, 14, 12, 15, 1, 15, 4, 2, 5, 5, 7, 15, 5, 12, 15, 13, 4, 6, 9, 9, 5, 9, 14, 5, 6, 4, 7, 14, 4, 10, 13, 1, 9, 1, 4, 8, 9, 13, 14, 12, 2, 1, 6, 9, 14, 11, 12, 11, 5, 10, 2, 3, 1, 1, 15, 12, 11, 4, 5, 7, 7, 2, 3, 6, 12, 10, 10, 5, 6, 15, 5, 12, 1, 6, 10, 5, 13, 6, 3, 15, 1, 4, 1, 14, 13, 4, 13, 15, 8, 8, 9, 12, 8, 2, 3, 4, 2, 5, 12, 5, 11, 5, 14, 2, 9, 3, 3, 7, 11, 9, 10, 10, 1, 2, 11, 15, 12, 10, 4, 15, 13, 2, 5, 10, 13, 5, 15, 8, 10, 12, 6, 2, 10, 4, 9, 13, 11, 14, 4, 10, 5, 1, 6, 1, 2, 3, 5, 2, 5, 12, 15, 4, 1, 2, 3, 9, 15, 1, 2, 3, 5, 8, 11, 13, 6, 12, 4, 10, 2, 8, 10, 8, 1, 5, 10, 14, 15, 3, 1, 3, 9, 7, 14, 7, 8, 6, 2, 8, 2, 7, 10, 15, 5, 1, 1, 2, 5, 7, 8, 9, 11, 12, 13, 15, 1, 3, 4, 5, 15, 3, 4, 1, 2, 4, 10, 1, 4, 3, 3, 1, 9, 6, 6, 9, 11, 1, 13, 2, 4, 1, 3, 9, 12, 9, 4, 4, 3, 5, 4, 10, 8, 8, 12, 13, 5, 8, 2, 10, 8, 9, 10, 12, 3, 4, 5, 8, 9, 10, 12, 15, 12, 13, 5, 8, 11, 13, 6, 15, 1, 9, 5, 2, 3, 4, 5, 6, 10, 1, 4, 1, 2, 3, 5, 6, 7, 9, 10, 10, 4, 4, 2, 3, 5, 6, 8, 10, 10, 9, 7, 11, 2, 5, 1, 13, 6, 9, 10, 15, 14, 6, 7, 6, 2, 4, 8, 9, 2, 13, 13, 2, 8, 8, 15, 1, 3, 4, 5, 12, 11, 11, 9, 11, 13, 5, 13, 2, 4, 10, 1, 3, 5, 11, 7, 9, 9, 13, 2, 8, 1, 2, 4, 5, 8, 14, 10, 14, 15, 9, 3, 13, 2, 8, 11, 10, 9, 3, 12, 8, 12, 15, 12, 14, 9, 7, 13, 15, 10, 1, 6, 8, 9, 10, 13, 11, 8, 10, 1, 5, 6, 2, 4, 9, 8, 12, 14, 1, 2, 4, 8, 11, 8, 3, 3, 8, 8, 12, 7, 1, 1, 11, 1, 4, 8, 11, 15, 1, 4, 4, 1, 4, 1, 3, 4, 12, 2, 3, 5, 12, 8, 9, 8, 5, 6, 12, 1, 4, 6, 7, 5, 12, 2, 4, 5, 11, 12, 15, 1, 2, 3, 4, 2, 10, 1, 2, 7, 7, 15, 3, 3, 11, 11, 5, 6, 10, 10, 7, 8, 8, 12, 5, 12, 1, 3, 5, 2, 3, 6, 14, 7, 4, 5, 6, 5, 6, 12, 9, 9, 2, 8, 13, 9, 10, 5, 2, 3, 4, 13, 1, 2, 3, 5, 7, 13, 3, 15, 14, 2, 5, 6, 6, 1, 3, 8, 12, 5, 5, 6, 12, 13, 12, 6, 12, 1, 8, 1, 12, 15, 4, 3, 3, 8, 11, 12, 1, 2, 3, 10, 13, 5, 14, 9, 5, 13, 3, 7, 15, 7, 7, 2, 5, 6, 7, 10, 2, 4, 2, 15, 3, 11, 3, 9, 13, 1, 5, 15, 11], \"Freq\": [0.9678073886092582, 0.9323482476287582, 0.9586187078162599, 0.9755601484878379, 0.4260721265986657, 0.0946826947997035, 0.14202404219955525, 0.33138943179896224, 0.28787290358977824, 0.27535669039022265, 0.30038911678933383, 0.12516213199555576, 0.9462303373262001, 0.039426264055258335, 0.5951012360816382, 0.9322786536785268, 0.784563216739793, 0.7844452552145539, 0.9201642276024136, 0.9683208467784293, 0.9625321565410396, 0.0223685002443762, 0.4809227552540883, 0.2348692525659501, 0.2572377528103263, 0.05514784882803457, 0.22059139531213828, 0.27573924414017287, 0.386034941796242, 0.8630430359835473, 0.8746552187662908, 0.7845110966624437, 0.3869164796860778, 0.6056084029869043, 0.46702913580817657, 0.5094863299725563, 0.9533791001506875, 0.7326850440015292, 0.3542164763353901, 0.3542164763353901, 0.8123177171292939, 0.7816317672491787, 0.9613856495813814, 0.908283353938701, 0.9376514795381781, 0.9415320924018251, 0.9582160480576808, 0.8197765272832918, 0.9443899442844926, 0.7202994422064393, 0.2585690305356449, 0.7313312719672196, 0.16876875506935837, 0.05625625168978612, 0.02812812584489306, 0.9693901109972578, 0.1799755038663782, 0.7199020154655128, 0.8229450660393706, 0.1645890132078741, 0.9527162246534492, 0.9197782106213246, 0.8491160765909029, 0.14524353941686496, 0.6302495574761681, 0.7826702736737159, 0.8950564534889546, 0.06885049642222726, 0.9604728564253505, 0.8580854408081896, 0.9533753950407045, 0.9610461344782497, 0.061107025907929935, 0.8554983627110191, 0.061107025907929935, 0.8311261303812101, 0.6733580157094442, 0.9376426801330385, 0.5970850323202516, 0.3731781452001572, 0.5149575669956337, 0.44629655806288254, 0.8694091715007556, 0.10867614643759445, 0.32134335211895965, 0.596780511078068, 0.04590619315985138, 0.8262767769611202, 0.9806257134263433, 0.07793535639193075, 0.8572889203112382, 0.051956904261287164, 0.10725419265837353, 0.006309070156374914, 0.24605373609862163, 0.0883269821892488, 0.4037804900079945, 0.0883269821892488, 0.056781631407374224, 0.50937454726362, 0.003948639901268372, 0.003948639901268372, 0.44224766894205764, 0.035537759111415344, 0.9542414899335567, 0.8198702773076377, 0.7440819915363248, 0.029939978321150997, 0.6586795230653218, 0.29939978321150995, 0.2535327642948089, 0.08066951591198467, 0.16133903182396933, 0.32267806364793866, 0.17286324838282427, 0.10517134368007328, 0.8413707494405862, 0.5083336560182401, 0.45750029041641604, 0.9890397746922903, 0.6429411089080517, 0.33933002970147175, 0.062440582497048404, 0.5619652424734356, 0.3746434949822904, 0.8806531419216926, 0.21193174780428467, 0.05298293695107117, 0.7417611173149964, 0.8399832419672623, 0.2404559068498066, 0.7213677205494198, 0.6398932643320605, 0.10528704710707125, 0.7370093297494987, 0.10528704710707125, 0.9722993850256446, 0.9450573175108037, 0.7816489906790989, 0.20690708576799677, 0.8631312282235419, 0.21417296958466095, 0.6425189087539829, 0.9218762363897819, 0.9465701673619984, 0.8816705809176076, 0.8460378479925752, 0.1457318109185451, 0.5829272436741804, 0.24288635153090848, 0.9577813275730304, 0.20447835389825902, 0.7497539642936164, 0.9573380270896327, 0.831543844464308, 0.9811814662235373, 0.8746584449252901, 0.9772467526238687, 0.44329067199634764, 0.5104559253291275, 0.040299151999667965, 0.9659711866260384, 0.16118601519436054, 0.16118601519436054, 0.1208895113957704, 0.5641510531802618, 0.9691836898696427, 0.7288090243536711, 0.6236596733608708, 0.3420069176495098, 0.8921271241771566, 0.08110246583428696, 0.9824245944558334, 0.6904515783362203, 0.2921141292960932, 0.9450781127367406, 0.9041411605846905, 0.0858116158861441, 0.858116158861441, 0.9786862928693606, 0.07618883171400838, 0.4571329902840503, 0.4190385744270461, 0.03809441585700419, 0.8569634583450418, 0.8232005838924255, 0.11837427297305585, 0.8286199108113909, 0.41207773530867003, 0.9514496228731711, 0.1644986413087345, 0.23029809783222832, 0.49349592392620356, 0.032899728261746905, 0.032899728261746905, 0.032899728261746905, 0.8892779519064424, 0.9324846718318507, 0.9674930463839688, 0.015117078849749513, 0.015117078849749513, 0.9517596604245488, 0.6520732596635206, 0.30021713558623797, 0.6004342711724759, 0.8936914869648397, 0.08936914869648396, 0.9685769994740965, 0.061239848856110314, 0.9185977328416547, 0.8513308761163192, 0.7845651164744339, 0.9364157659702783, 0.7112888892661309, 0.7984046132117749, 0.9723973804001728, 0.7512281395976932, 0.12520468993294886, 0.6425949199230715, 0.07649939522893708, 0.27539782282417347, 0.8864529626048188, 0.6409845952625144, 0.9543618345511458, 0.9100016675285297, 0.9803181650606778, 0.93256350192068, 0.7992152665275529, 0.965966649850054, 0.19432315862855015, 0.5829694758856505, 0.2780008856283034, 0.07942882446522954, 0.03971441223261477, 0.5560017712566068, 0.9368807481390202, 0.9778986612145528, 0.6400307242917771, 0.34596255367123085, 0.9797384361399093, 0.9854436208208023, 0.9750031869996704, 0.9431062218348916, 0.8617947217961398, 0.18878071473813327, 0.24686708850371272, 0.004840531147131622, 0.14521593441394867, 0.40660461635905626, 0.798581701969383, 0.1597163403938766, 0.9219502014054973, 0.7110429315441935, 0.9675742439469058, 0.09537400908292294, 0.8583660817463065, 0.9864631285006753, 0.9090298355585379, 0.869389189545203, 0.09873131282789872, 0.8638989872441138, 0.02468282820697468, 0.7654443548125283, 0.9346008412898342, 0.14981148436055775, 0.14981148436055775, 0.6491830988957503, 0.10740697464648212, 0.859255797171857, 0.508271084151561, 0.24443576859485222, 0.7333073057845567, 0.3231496275347088, 0.6462992550694177, 0.9375711599477585, 0.6611078204941555, 0.5261373430064823, 0.02391533377302192, 0.4304760079143946, 0.8644022704479319, 0.06087339932731915, 0.06087339932731915, 0.9586929471136717, 0.8965050758696268, 0.02145465169115132, 0.19309186522036187, 0.1609098876836349, 0.1233642472241201, 0.13945523599248358, 0.30036512367611845, 0.06436395507345397, 0.7466765232588999, 0.2488921744196333, 0.2875121102705262, 0.6325266425951577, 0.057502422054105246, 0.9643558552832767, 0.5731114264259265, 0.8583217124083682, 0.07802924658257893, 0.9878906608837933, 0.6228540894919072, 0.06228540894919072, 0.0778567611864884, 0.1790705507289233, 0.05449973283054188, 0.05169635535606909, 0.5169635535606909, 0.4135708428485527, 0.8888230177778931, 0.9502014840103706, 0.8960733589322291, 0.9385492093830703, 0.8148531960570377, 0.82038508677329, 0.9679756809712295, 0.9692050463417012, 0.8970833969329869, 0.9827310870888888, 0.16878733213331168, 0.6751493285332467, 0.8123763634844762, 0.6677298712694782, 0.8641260638956744, 0.26525408870092443, 0.6631352217523111, 0.8035468877370133, 0.9417461343902734, 0.7689209662865863, 0.21358915730182954, 0.25320803142394377, 0.3402482922259244, 0.17408052160396134, 0.22155702749595077, 0.9462839718920493, 0.8850444220465609, 0.9377980697795828, 0.8117358498374313, 0.11596226426249019, 0.34596429254841016, 0.34596429254841016, 0.978438463816728, 0.9684864992408848, 0.9569943390380643, 0.6003841182752644, 0.3884838412369358, 0.24476444875139614, 0.6731022340663394, 0.882832251988033, 0.7526884375927334, 0.42264872998052955, 0.28176581998701966, 0.020126129999072834, 0.27170275498748325, 0.970270311881205, 0.07644157654755067, 0.8408573420230574, 0.8053064196648787, 0.16953819361365868, 0.972296528945553, 0.9144336907446688, 0.07034105313420529, 0.9642123376393427, 0.6895484599876802, 0.8828784402266647, 0.12775709253035014, 0.12775709253035014, 0.6387854626517507, 0.9670162001972579, 0.8254593885353275, 0.9341041783375504, 0.038921007430731264, 0.7991456466176298, 0.029159185384445663, 0.5540245223044676, 0.40822859538223927, 0.9476576329357284, 0.7845110972661375, 0.1278041169814316, 0.639020584907158, 0.9178908977143949, 0.8258738171317174, 0.05268666320233421, 0.8956732744396816, 0.8895490641126067, 0.059303270940840445, 0.9878686932012002, 0.04862484749606415, 0.016208282498688047, 0.06483312999475219, 0.8428306899317786, 0.9882145056107768, 0.9331645033921537, 0.8858898942489324, 0.932164845602615, 0.9309718559538153, 0.8398531970580349, 0.0646040920813873, 0.8927663443887651, 0.9531307612491984, 0.9626750585478411, 0.8400684862087092, 0.7598790303904039, 0.9741894091421327, 0.9277154629401996, 0.9796954344875152, 0.9327433274105662, 0.929550716029272, 0.941650056894875, 0.8674559120086941, 0.3165431389142246, 0.07913578472855615, 0.5539504930998931, 0.9109552125431504, 0.7113981428002855, 0.2694689934849566, 0.010778759739398264, 0.940366621180634, 0.9658742281863386, 0.8053156094376751, 0.025047451064702936, 0.7263760808763852, 0.22542705958232642, 0.08022193568916958, 0.9225522604254502, 0.6440948204606151, 0.17130181395229122, 0.1781538865103829, 0.8903013806930656, 0.9625060412716531, 0.974756380975135, 0.9210766202763946, 0.9510642106622514, 0.3481182953436809, 0.5967742205891672, 0.949189541075854, 0.9228057108452262, 0.9519996629167259, 0.1512772322357555, 0.43870397348369095, 0.3933208038129643, 0.7437112898535259, 0.3086226842267299, 0.506141202131837, 0.18517361053603792, 0.9890567384674738, 0.03823187927939681, 0.8602172837864283, 0.09557969819849202, 0.867157569395534, 0.07883250630868491, 0.961589074236149, 0.8294795868746072, 0.08294795868746073, 0.9701342551159232, 0.959230488897468, 0.9734753837229413, 0.7321478908682479, 0.9282771272458522, 0.05306164095845194, 0.9020478962936831, 0.9474557284477421, 0.6517925465950921, 0.6300846682738439, 0.8742062609273714, 0.8747793030246123, 0.8181080163312534, 0.9272796757960551, 0.9198538307504286, 0.7339950932081142, 0.9752893784946928, 0.03700020545446046, 0.9250051363615114, 0.9696083608058097, 0.3006110066284405, 0.661344214582569, 0.7110406733676956, 0.361841367465804, 0.8310152664253733, 0.8553195240936444, 0.4490128636715793, 0.491775993545063, 0.04276312987348374, 0.9593702802681535, 0.07004333384628052, 0.8405200061553662, 0.9322346215369636, 0.5665352470091266, 0.38762937953256027, 0.9772320291143921, 0.9672840115187619, 0.44066272423103686, 0.5364589686290884, 0.7985850143880632, 0.11359852448319943, 0.795189671382396, 0.03935668336306175, 0.944560400713482, 0.8521202218870295, 0.1278180332830544, 0.21073293531721612, 0.07024431177240538, 0.03512215588620269, 0.6673209618378511, 0.8256238270642131, 0.5843597071691975, 0.03652248169807484, 0.13391576622627444, 0.13391576622627444, 0.09739328452819959, 0.018852224854827772, 0.09426112427413885, 0.2764992978708073, 0.043988524661264794, 0.2325107732095425, 0.1571018737902314, 0.17595409864505918, 0.9857980472676653, 0.44778912026079887, 0.7905771926935948, 0.09882214908669935, 0.7655507915266229, 0.17621108311549524, 0.704844332461981, 0.5935670042141414, 0.9271550994508475, 0.17358721273313665, 0.6943488509325466, 0.41043733540146676, 0.5570220980448478, 0.940477293431434, 0.2026616531615664, 0.7205747667966805, 0.04503592292479253, 0.7522547111157324, 0.2222570737387391, 0.9866065228156415, 0.8499941458399632, 0.5777672398952258, 0.7654443541686976, 0.9837984884587269, 0.1926363970241961, 0.40667683816219174, 0.3424647058207931, 0.021404044113799568, 0.812553385133475, 0.9636807900236433, 0.01869288815024964, 0.0062309627167498795, 0.18381340014412145, 0.06854058988424867, 0.20562176965274603, 0.27727784089536966, 0.0467322203756241, 0.1713514747106217, 0.0155774067918747, 0.0031154813583749398, 0.3874165899216779, 0.11069045426333654, 0.48703799875868076, 0.011069045426333654, 0.874439748452589, 0.8891023530849286, 0.8489223066649438, 0.06182126306868892, 0.06182126306868892, 0.6182126306868891, 0.18546378920606674, 0.14637070785428824, 0.8050388931985853, 0.9124996623297517, 0.9105700293578258, 0.87227619808251, 0.09181854716658, 0.7851911237214136, 0.9655086909936758, 0.9550515794621266, 0.77577228330891, 0.9911085183904906, 0.9443169476820849, 0.053481463317217655, 0.9270120308317727, 0.7809457965977598, 0.15279374281260516, 0.05093124760420172, 0.44259952909615563, 0.969567383244926, 0.9391580493754095, 0.9215947435965054, 0.8041113645138674, 0.14620206627524862, 0.9806824044755537, 0.630389576576001, 0.9935918419670291, 0.6864251133545982, 0.9453006434075136, 0.9172116021527461, 0.9599844210361094, 0.6660679739174057, 0.8692626800561463, 0.9502555233961467, 0.25872304389731826, 0.25872304389731826, 0.29753150048191596, 0.18110613072812276, 0.9873227517875794, 0.19435499876315682, 0.006269516089134091, 0.006269516089134091, 0.2946672561893023, 0.36990144925891133, 0.1253903217826818, 0.006269516089134091, 0.83412895615833, 0.16488595644990245, 0.23329963918238117, 0.6998989175471435, 0.98519424675158, 0.9585535808285491, 0.07624441067035684, 0.8386885173739251, 0.8507462318264162, 0.07734056652967419, 0.9694026408028641, 0.08276987857844874, 0.44143935241839327, 0.02758995952614958, 0.19312971668304704, 0.23451465597227142, 0.01379497976307479, 0.7839524685910934, 0.20450933963245913, 0.070157714690871, 0.01753942867271775, 0.06577285752269156, 0.05700314318633269, 0.5437222888542502, 0.11400628637266538, 0.004384857168179437, 0.12277600070902425, 0.9572204098395631, 0.9723697517255111, 0.9144800397955293, 0.20295013349987862, 0.3624109526783547, 0.028992876214268375, 0.3769073907854889, 0.014496438107134187, 0.6304015337748867, 0.7110974619480193, 0.6519869422725187, 0.6181389171352397, 0.9757907167138633, 0.9765917841552176, 0.7984405093282845, 0.16431276982178694, 0.7667929258350058, 0.5102385986072817, 0.3444110540599151, 0.012755964965182042, 0.12755964965182043, 0.9376508974491924, 0.7213803457858714, 0.9643280894358849, 0.9748048183979561, 0.38572147432167936, 0.0907579939580422, 0.26092923262937134, 0.24958448338461606, 0.9700741598189827, 0.9370060114343746, 0.41299879651419147, 0.9765923630057763, 0.6865165663537627, 0.7229799134828644, 0.23238640076234926, 0.03414992214893496, 0.1707496107446748, 0.3414992214893496, 0.44394898793615445, 0.9621651254811907, 0.9279494914085942, 0.9122845260394791, 0.7322836426546714, 0.9737111826915065, 0.9663219434221778, 0.8376237746387664, 0.1578131749319415, 0.8905782066817782, 0.9539999973965501, 0.6302813141068839, 0.02204703149329441, 0.8157401652518933, 0.08818812597317764, 0.04409406298658882, 0.9429321131108769, 0.03697772992591674, 0.5542551016284932, 0.4083984959367845, 0.9876435407543639, 0.9566629866918809, 0.05619037107612559, 0.05619037107612559, 0.8007127878347896, 0.05619037107612559, 0.014047592769031397, 0.9504675700262031, 0.9327235034056666, 0.5608757813762425, 0.40062555812588746, 0.9693662816644772, 0.959261188209954, 0.9644792563704805, 0.9700825670988384, 0.9598308530409706, 0.6996185916664625, 0.9678439842747589, 0.6756710408777283, 0.9222249873330298, 0.981705086955033, 0.5782146964362687, 0.3854764642908458, 0.8828344113068634, 0.9597375928807684, 0.9592920882965686, 0.6519321908797867, 0.7752472073248523, 0.15504944146497046, 0.9491173930911758, 0.8397533537247951, 0.09641880004079648, 0.18480270007819324, 0.18480270007819324, 0.19283760008159295, 0.008034900003399707, 0.32943090013938797, 0.9528920303930911, 0.4686729710074741, 0.5180069679556293, 0.9566174412844443, 0.14586658004893158, 0.8168528482740168, 0.008001147895253982, 0.7921136416301443, 0.20002869738134957, 0.593422063114299, 0.395614708742866, 0.6913581656655021, 0.30671677701923056, 0.002714307761232129, 0.4560037038869976, 0.2280018519434988, 0.008142923283696386, 0.5947545390857535, 0.985638112135631, 0.06151625957979253, 0.9227438936968879, 0.5847842673039841, 0.3898561782026561, 0.9101700823217342, 0.9876567130504296, 0.19780554630573408, 0.7664964919347196, 0.9806813204118313, 0.3491067596920161, 0.03491067596920161, 0.5760261534918265, 0.017455337984600805, 0.3081673628347602, 0.667695952808647, 0.9769142547619135, 0.8644829859882212, 0.10806037324852764, 0.14206624450216662, 0.7576866373448886, 0.07103312225108331, 0.02367770741702777, 0.8213750066485228, 0.17476063971245168, 0.7530779437354285, 0.22592338312062857, 0.9610749235715835, 0.8361230190216268, 0.9731986373258028, 0.15869391695829005, 0.6347756678331602, 0.15869391695829005, 0.45000408197678393, 0.34412076857048185, 0.1852957984610287, 0.026470828351575527, 0.8153815318265065, 0.16543973109523322, 0.008544828863034135, 0.3759724699735019, 0.1452620906715803, 0.15380691953461442, 0.2905241813431606, 0.01708965772606827, 0.31063975731085575, 0.014792369395755036, 0.47335582066416115, 0.19230080214481546, 0.13863017575466585, 0.8040550193770619, 0.3354698098426939, 0.6373926387011185, 0.968703922349242, 0.9652256541389316, 0.5604197631134663, 0.8890993179797023, 0.09426081841810892, 0.8797676385690166, 0.9836771512128099, 0.1162961829841713, 0.494258777682728, 0.39249961757157814, 0.9593279948461666, 0.14666731009385428, 0.7333365504692714, 0.0396473128946054, 0.9118881965759241, 0.9476511747255039, 0.9369663767033768, 0.2594295820332054, 0.6485739550830134, 0.04323826367220089, 0.9095640463744296, 0.08395975812687043, 0.9610657120604574, 0.6969633210487347, 0.6182500552261603, 0.5715304792973972, 0.3429182875784383, 0.057153047929739714, 0.1496854129229764, 0.8382383123686679, 0.9721031024892783, 0.5851187731635322, 0.9694314907981819, 0.6406941379851973, 0.31213304158253197, 0.049284164460399786, 0.9694145655569498, 0.9388102076525919, 0.8920009421885483, 0.8022676378466571, 0.1651727489684294, 0.023596106995489915, 0.9437589468574638, 0.07203103309770288, 0.027011637411638582, 0.8643723971724346, 0.01800775827442572, 0.01800775827442572, 0.9370015180784202, 0.8997738725540392, 0.9519793069695105, 0.9231407619750319, 0.015213802630248636, 0.9736833683359127, 0.7848124333958879, 0.9774323112641976, 0.9269915547646022, 0.3037192677354866, 0.635049377992381, 0.027610842521407872, 0.9626816185264835, 0.028027827478906007, 0.056055654957812014, 0.4484452396624961, 0.47647306714140214, 0.9206086928657838, 0.5731122009227496, 0.4059544756536143, 0.8813271703595984, 0.07344393086329987, 0.9801006311317115, 0.03005289109400681, 0.9316396239142111, 0.8806380110589379, 0.941583511061442, 0.8888652771497405, 0.661142552617797, 0.9711915455596213, 0.9166237839984701, 0.047361218260626094, 0.09472243652125219, 0.8525019286912697, 0.39396673621199385, 0.5515534306967914, 0.8874935851452488, 0.9231411009583822, 0.9686698020534773, 0.2043246498265804, 0.6129739494797413, 0.9664628045521434, 0.9909070758850775, 0.9519472459269267, 0.831535511724618, 0.9726993487777854, 0.1561307067577334, 0.08921754671870481, 0.36802238021465733, 0.011152193339838102, 0.37917457355449546, 0.964324437749204, 0.9785002466281199, 0.9522622014624373, 0.8965057325438184, 0.8932896547224315, 0.867435919607305, 0.13269018279153474, 0.6634509139576737, 0.45768811232616824, 0.19530856429567406, 0.06510285476522468, 0.7161314024174715, 0.7758221498654391], \"Term\": [\"abril\", \"abrir\", \"absoluta\", \"acceso\", \"acciones\", \"acciones\", \"acciones\", \"acciones\", \"actividades\", \"actividades\", \"actividades\", \"actividades\", \"actuar\", \"actuar\", \"ac\\u00e1\", \"administraci\\u00f3n\", \"adultas\", \"adultos\", \"aeropuertos\", \"agradecimiento\", \"agradezco\", \"ahorita\", \"ahorita\", \"ahorita\", \"ahorita\", \"aislamiento\", \"aislamiento\", \"aislamiento\", \"aislamiento\", \"alcance\", \"alcocer\", \"alcohol\", \"alom\\u00eda\", \"alom\\u00eda\", \"alta\", \"alta\", \"alternativa\", \"alto\", \"am\\u00e9rica\", \"am\\u00e9rica\", \"antecedente\", \"anunciamos\", \"anunciar\", \"an\\u00e1lisis\", \"aplica\", \"apropiadas\", \"araceli\", \"armadas\", \"aspecto\", \"asunto\", \"asunto\", \"atenci\\u00f3n\", \"atenci\\u00f3n\", \"atenci\\u00f3n\", \"atenci\\u00f3n\", \"aumentar\", \"autoridad\", \"autoridad\", \"autoridades\", \"autoridades\", \"ayuda\", \"a\\u00f1o\", \"a\\u00f1os\", \"a\\u00f1os\", \"balance\", \"bioseguridad\", \"brote\", \"brote\", \"calidad\", \"california\", \"cambia\", \"cambiando\", \"cambio\", \"cambio\", \"cambio\", \"campo\", \"canad\\u00e1\", \"canal\", \"cancelar\", \"cancelar\", \"canciller\", \"canciller\", \"cantidad\", \"cantidad\", \"capacidad\", \"capacidad\", \"capacidad\", \"caracter\\u00edstica\", \"carga\", \"casa\", \"casa\", \"casa\", \"caso\", \"caso\", \"caso\", \"caso\", \"caso\", \"caso\", \"caso\", \"casos\", \"casos\", \"casos\", \"casos\", \"casos\", \"centinela\", \"centro\", \"centros\", \"cerrar\", \"cerrar\", \"cerrar\", \"china\", \"china\", \"china\", \"china\", \"china\", \"ciencia\", \"ciencia\", \"cient\\u00edfico\", \"cient\\u00edfico\", \"cierre\", \"circunstancia\", \"circunstancia\", \"ciudad\", \"ciudad\", \"ciudad\", \"civil\", \"cl\\u00ednica\", \"cl\\u00ednica\", \"cl\\u00ednica\", \"cofepris\", \"colaboraci\\u00f3n\", \"colaboraci\\u00f3n\", \"comando\", \"comentar\", \"comentar\", \"comentar\", \"comentario\", \"comit\\u00e9\", \"compa\\u00f1era\", \"compa\\u00f1era\", \"compa\\u00f1eras\", \"compa\\u00f1ero\", \"compa\\u00f1ero\", \"competencia\", \"completa\", \"complicarse\", \"componentes\", \"compra\", \"compra\", \"compra\", \"comunicaci\\u00f3n\", \"comunidad\", \"comunidad\", \"comunitaria\", \"comunitarios\", \"com\\u00fan\", \"conago\", \"concentraci\\u00f3n\", \"condiciones\", \"condiciones\", \"condiciones\", \"condici\\u00f3n\", \"conferencia\", \"conferencia\", \"conferencia\", \"conferencia\", \"confirmaci\\u00f3n\", \"confirmados\", \"connacionales\", \"connacionales\", \"conocimiento\", \"conocimiento\", \"consecuencias\", \"consejo\", \"consejo\", \"consideramos\", \"considerar\", \"consiste\", \"consiste\", \"consolidada\", \"contactos\", \"contactos\", \"contactos\", \"contactos\", \"contagio\", \"contagi\\u00f3\", \"contenci\\u00f3n\", \"contenci\\u00f3n\", \"contener\", \"contrario\", \"control\", \"control\", \"control\", \"control\", \"control\", \"control\", \"controlar\", \"conversaci\\u00f3n\", \"coronavirus\", \"coronavirus\", \"coronavirus\", \"correcto\", \"corresponden\", \"costo\", \"costo\", \"covid\", \"covid\", \"criterio\", \"criterios\", \"criterios\", \"cr\\u00f3nica\", \"cr\\u00f3nicas\", \"curva\", \"damos\", \"darle\", \"decenas\", \"decimos\", \"decimos\", \"decisiones\", \"decisiones\", \"decisiones\", \"dec\\u00eda\", \"defensas\", \"definici\\u00f3n\", \"dejamos\", \"depende\", \"dependencias\", \"destacar\", \"detecci\\u00f3n\", \"detectar\", \"detectar\", \"diagn\\u00f3stico\", \"diagn\\u00f3stico\", \"diagn\\u00f3stico\", \"diagn\\u00f3stico\", \"dif\\u00edcil\", \"dijimos\", \"din\\u00e1mica\", \"din\\u00e1mica\", \"director\", \"disminuir\", \"distancia\", \"distanciamiento\", \"distribuci\\u00f3n\", \"doctor\", \"doctor\", \"doctor\", \"doctor\", \"doctor\", \"doctora\", \"doctora\", \"dolor\", \"doy\", \"ebrard\", \"econom\\u00eda\", \"econom\\u00eda\", \"econ\\u00f3micas\", \"econ\\u00f3mico\", \"educaci\\u00f3n\", \"elementos\", \"elementos\", \"elementos\", \"embarazada\", \"emergencia\", \"emergencias\", \"emergencias\", \"emergencias\", \"empezar\", \"empezar\", \"empezaron\", \"empez\\u00f3\", \"empez\\u00f3\", \"empieza\", \"empieza\", \"empiezan\", \"empresa\", \"enero\", \"enero\", \"enero\", \"enfermedad\", \"enfermedad\", \"enfermedad\", \"enfrentar\", \"entr\\u00f3\", \"epidemia\", \"epidemia\", \"epidemia\", \"epidemia\", \"epidemia\", \"epidemia\", \"epidemia\", \"epidemias\", \"epidemias\", \"epidemiolog\\u00eda\", \"epidemiolog\\u00eda\", \"epidemiolog\\u00eda\", \"epidemiol\\u00f3gica\", \"epidemiol\\u00f3gicos\", \"epid\\u00e9mica\", \"epid\\u00e9mica\", \"equipos\", \"escenario\", \"escenario\", \"escenario\", \"escenario\", \"escenario\", \"escenarios\", \"escenarios\", \"escenarios\", \"escolar\", \"escuela\", \"esencial\", \"esenciales\", \"espa\\u00f1a\", \"especiales\", \"espec\\u00edficas\", \"espec\\u00edfico\", \"estatal\", \"estatales\", \"estornudo\", \"estornudo\", \"estornudos\", \"estudiar\", \"estudios\", \"etapa\", \"etapa\", \"etiqueta\", \"europa\", \"evento\", \"evento\", \"eventos\", \"eventos\", \"eventos\", \"eventos\", \"evidencia\", \"evitar\", \"exacto\", \"excelente\", \"excelente\", \"exceso\", \"exceso\", \"expansi\\u00f3n\", \"expectativa\", \"explicaci\\u00f3n\", \"explicado\", \"explicado\", \"explicar\", \"explicar\", \"exteriores\", \"falsa\", \"fase\", \"fase\", \"fase\", \"fase\", \"favor\", \"febrero\", \"febrero\", \"fecha\", \"fecha\", \"federal\", \"fen\\u00f3meno\", \"fen\\u00f3meno\", \"fiebre\", \"fila\", \"fluida\", \"forma\", \"forma\", \"forma\", \"fronteras\", \"fuerzas\", \"funciona\", \"funciona\", \"fundamentales\", \"gabastou\", \"gabastou\", \"gabastou\", \"garganta\", \"gel\", \"generaci\\u00f3n\", \"generaci\\u00f3n\", \"generales\", \"generalizada\", \"gente\", \"gente\", \"gobernador\", \"gobernador\", \"gobernadores\", \"gobierno\", \"gobierno\", \"gobierno\", \"gobierno\", \"gracias\", \"grande\", \"grave\", \"guanajuato\", \"gustavo\", \"gusto\", \"gusto\", \"gu\\u00eda\", \"hablando\", \"hacienda\", \"haga\", \"hagan\", \"hern\\u00e1ndez\", \"hospital\", \"hospitales\", \"hospitalizaci\\u00f3n\", \"identificaci\\u00f3n\", \"implica\", \"implican\", \"importaci\\u00f3n\", \"importaci\\u00f3n\", \"importaci\\u00f3n\", \"importados\", \"importante\", \"importante\", \"importante\", \"importantes\", \"incluye\", \"indispensable\", \"infecci\\u00f3n\", \"infecci\\u00f3n\", \"infecci\\u00f3n\", \"influenza\", \"influenza\", \"informaci\\u00f3n\", \"informaci\\u00f3n\", \"informaci\\u00f3n\", \"informe\", \"inicio\", \"inmune\", \"inquietud\", \"insisto\", \"instituciones\", \"instituciones\", \"instituto\", \"institutos\", \"instrucci\\u00f3n\", \"insumos\", \"insumos\", \"insumos\", \"inteligencia\", \"internacional\", \"internacional\", \"internacional\", \"internacionales\", \"intervenciones\", \"intervenciones\", \"intervenciones\", \"intervenci\\u00f3n\", \"intervenci\\u00f3n\", \"inter\\u00e9s\", \"investigaci\\u00f3n\", \"investigaci\\u00f3n\", \"italia\", \"itzel\", \"jaime\", \"jefa\", \"jornada\", \"laboratorio\", \"laboratorio\", \"laboratorios\", \"laura\", \"lavado\", \"lavarse\", \"lenta\", \"leve\", \"ley\", \"lista\", \"llamadas\", \"llega\", \"llegada\", \"llegada\", \"llegan\", \"llegar\", \"llegar\", \"llegara\", \"l\\u00ednea\", \"l\\u00f3gica\", \"l\\u00f3pez\", \"manejo\", \"manejo\", \"manejo\", \"mano\", \"manos\", \"manos\", \"marina\", \"mar\\u00edtimos\", \"mar\\u00edtimos\", \"masiva\", \"material\", \"materiales\", \"materiales\", \"mauricio\", \"mayores\", \"mayores\", \"mayor\\u00eda\", \"mayor\\u00eda\", \"mecanismo\", \"mecanismo\", \"mecanismos\", \"mecanismos\", \"mecanismos\", \"mecanismos\", \"medicina\", \"medida\", \"medida\", \"medida\", \"medida\", \"medida\", \"medidas\", \"medidas\", \"medidas\", \"medidas\", \"medidas\", \"medidas\", \"medidas\", \"melina\", \"mencionado\", \"mensaje\", \"mensaje\", \"meses\", \"metro\", \"metro\", \"metropolitana\", \"mexicano\", \"minuto\", \"minuto\", \"minutos\", \"minutos\", \"mitad\", \"mitigaci\\u00f3n\", \"mitigaci\\u00f3n\", \"mitigaci\\u00f3n\", \"modelo\", \"modelo\", \"monitoreo\", \"monta\\u00f1a\", \"muestra\", \"mujer\", \"mundial\", \"mundo\", \"mundo\", \"mundo\", \"mundo\", \"m\\u00e1xima\", \"m\\u00e9dico\", \"m\\u00e9xico\", \"m\\u00e9xico\", \"m\\u00e9xico\", \"m\\u00e9xico\", \"m\\u00e9xico\", \"m\\u00e9xico\", \"m\\u00e9xico\", \"m\\u00e9xico\", \"m\\u00e9xico\", \"m\\u00e9xico\", \"nacional\", \"nacional\", \"nacional\", \"nacional\", \"nacionales\", \"natural\", \"necesario\", \"necesita\", \"necesita\", \"necesita\", \"necesita\", \"necesitan\", \"necesitan\", \"necesitar\", \"negativo\", \"nivel\", \"nivel\", \"noche\", \"nombre\", \"noticias\", \"notificaci\\u00f3n\", \"n\\u00famero\", \"obviamente\", \"ocurre\", \"ocurre\", \"ocurrir\", \"ocurrir\", \"ocurrir\", \"olvidar\", \"oms\", \"operaci\\u00f3n\", \"operar\", \"oportunidad\", \"oportunidad\", \"oportuno\", \"ops\", \"organizaci\\u00f3n\", \"panamericana\", \"pandemia\", \"partes\", \"participaci\\u00f3n\", \"participar\", \"particular\", \"pasa\", \"pasar\", \"pasar\", \"pasar\", \"pasar\", \"patr\\u00f3n\", \"pa\\u00eds\", \"pa\\u00eds\", \"pa\\u00eds\", \"pa\\u00eds\", \"pa\\u00eds\", \"pa\\u00eds\", \"pa\\u00eds\", \"pa\\u00edses\", \"pa\\u00edses\", \"pemex\", \"pemex\", \"pendiente\", \"perd\\u00f3n\", \"periodo\", \"periodo\", \"permite\", \"permite\", \"permitido\", \"persona\", \"persona\", \"persona\", \"persona\", \"persona\", \"persona\", \"personal\", \"personal\", \"personas\", \"personas\", \"personas\", \"personas\", \"personas\", \"personas\", \"personas\", \"personas\", \"pido\", \"plan\", \"planes\", \"poblaci\\u00f3n\", \"poblaci\\u00f3n\", \"poblaci\\u00f3n\", \"poblaci\\u00f3n\", \"poblaci\\u00f3n\", \"ponemos\", \"ponen\", \"ponerlos\", \"poquitos\", \"posibles\", \"posponer\", \"preciso\", \"predecir\", \"predecir\", \"pregunta\", \"pregunta\", \"pregunta\", \"pregunta\", \"preguntaba\", \"preguntar\", \"preguntas\", \"prensa\", \"preparaci\\u00f3n\", \"preparaci\\u00f3n\", \"preparaci\\u00f3n\", \"preparaci\\u00f3n\", \"preparado\", \"preparados\", \"prepararnos\", \"presente\", \"preside\", \"presidente\", \"presidente\", \"prevenci\\u00f3n\", \"prevenci\\u00f3n\", \"prevenci\\u00f3n\", \"prevenci\\u00f3n\", \"principio\", \"privadas\", \"privados\", \"procedimientos\", \"proceso\", \"producci\\u00f3n\", \"productos\", \"productos\", \"proporci\\u00f3n\", \"protecci\\u00f3n\", \"protege\", \"prueba\", \"prueba\", \"prueba\", \"prueba\", \"pruebas\", \"pruebas\", \"puertos\", \"puertos\", \"punto\", \"p\\u00e1nico\", \"p\\u00fablica\", \"p\\u00fablica\", \"p\\u00fablica\", \"p\\u00fablica\", \"p\\u00fablica\", \"p\\u00fablicos\", \"queda\", \"quedan\", \"quedan\", \"rapidito\", \"raz\\u00f3n\", \"real\", \"realidad\", \"recomendaciones\", \"recursos\", \"redes\", \"reducci\\u00f3n\", \"reducir\", \"regi\\u00f3n\", \"reglamento\", \"reglamento\", \"relaciones\", \"relaci\\u00f3n\", \"relevante\", \"repertorio\", \"requiere\", \"requiere\", \"reserva\", \"respiratoria\", \"respuesta\", \"respuesta\", \"respuesta\", \"respuesta\", \"respuesta\", \"respuesta\", \"restricci\\u00f3n\", \"retomo\", \"retomo\", \"reuni\\u00f3n\", \"reyes\", \"reyes\", \"riesgo\", \"riesgo\", \"riesgo\", \"riesgos\", \"riesgos\", \"ruth\", \"salud\", \"salud\", \"salud\", \"salud\", \"salud\", \"salvador\", \"sana\", \"sanitaria\", \"sanitaria\", \"sanitario\", \"sanitario\", \"sarampi\\u00f3n\", \"secretarias\", \"secretario\", \"secretario\", \"secretarios\", \"secretar\\u00eda\", \"secretar\\u00eda\", \"secretar\\u00eda\", \"secretar\\u00eda\", \"sector\", \"sector\", \"seguridad\", \"seguro\", \"seguro\", \"semana\", \"semana\", \"semana\", \"semana\", \"semanas\", \"semanas\", \"sentido\", \"sentido\", \"se\\u00f1or\", \"sheinbaum\", \"significado\", \"siguientes\", \"siguientes\", \"siguientes\", \"sistema\", \"sistema\", \"sistema\", \"sistema\", \"sitio\", \"sitio\", \"situaci\\u00f3n\", \"situaci\\u00f3n\", \"situaci\\u00f3n\", \"situaci\\u00f3n\", \"situaci\\u00f3n\", \"situaci\\u00f3n\", \"social\", \"social\", \"social\", \"social\", \"sociales\", \"sociales\", \"sociedad\", \"sociedad\", \"sospechoso\", \"sospechosos\", \"subsecretaria\", \"susana\", \"suspensi\\u00f3n\", \"suspensi\\u00f3n\", \"s\\u00e1bado\", \"s\\u00edntomas\", \"s\\u00edntomas\", \"s\\u00edntomas\", \"tabla\", \"tama\\u00f1o\", \"tama\\u00f1o\", \"tema\", \"tema\", \"temperatura\", \"temprana\", \"tengamos\", \"tengamos\", \"tengamos\", \"tengan\", \"tengan\", \"ten\\u00edan\", \"terminamos\", \"territorial\", \"territorio\", \"territorio\", \"territorio\", \"ter\\u00e1n\", \"ter\\u00e1n\", \"tipo\", \"toma\", \"toman\", \"tomar\", \"tomar\", \"tomar\", \"tomaron\", \"tom\\u00f3\", \"tos\", \"trabajando\", \"trabajando\", \"trabajando\", \"trabajos\", \"transmisi\\u00f3n\", \"transmisi\\u00f3n\", \"transmisi\\u00f3n\", \"transmisi\\u00f3n\", \"transmisi\\u00f3n\", \"transparencia\", \"transporte\", \"trasmisi\\u00f3n\", \"tratar\", \"turismo\", \"turismo\", \"tuviera\", \"tuvieran\", \"tuvimos\", \"t\\u00e9cnica\", \"t\\u00e9cnica\", \"t\\u00e9cnica\", \"t\\u00e9cnicas\", \"t\\u00e9cnico\", \"t\\u00e9cnico\", \"t\\u00e9cnico\", \"t\\u00e9cnico\", \"t\\u00e9cnicos\", \"t\\u00e9rminos\", \"t\\u00e9rminos\", \"unidad\", \"unidad\", \"unidades\", \"unidos\", \"unidos\", \"utilizar\", \"vacaciones\", \"valadez\", \"valle\", \"ve\", \"vecinos\", \"velocidad\", \"velocidad\", \"velocidad\", \"vemos\", \"vemos\", \"viaje\", \"viajeros\", \"viajes\", \"viaj\\u00f3\", \"viaj\\u00f3\", \"vida\", \"vigilancia\", \"vigor\", \"vino\", \"viral\", \"virus\", \"virus\", \"virus\", \"virus\", \"virus\", \"vista\", \"visto\", \"vive\", \"vuelos\", \"vuelve\", \"vuelvo\", \"v\\u00e1monos\", \"v\\u00e1monos\", \"\\u00e1ngulo\", \"\\u00fatil\", \"\\u00fatil\", \"\\u00fatil\", \"\\u00fatiles\"]}, \"R\": 30, \"lambda.step\": 0.01, \"plot.opts\": {\"xlab\": \"PC1\", \"ylab\": \"PC2\"}, \"topic.order\": [11, 8, 10, 4, 1, 12, 13, 14, 6, 7, 5, 2, 15, 9, 3]};\n",
       "\n",
       "function LDAvis_load_lib(url, callback){\n",
       "  var s = document.createElement('script');\n",
       "  s.src = url;\n",
       "  s.async = true;\n",
       "  s.onreadystatechange = s.onload = callback;\n",
       "  s.onerror = function(){console.warn(\"failed to load library \" + url);};\n",
       "  document.getElementsByTagName(\"head\")[0].appendChild(s);\n",
       "}\n",
       "\n",
       "if(typeof(LDAvis) !== \"undefined\"){\n",
       "   // already loaded: just create the visualization\n",
       "   !function(LDAvis){\n",
       "       new LDAvis(\"#\" + \"ldavis_el1680419757632542885664483085\", ldavis_el1680419757632542885664483085_data);\n",
       "   }(LDAvis);\n",
       "}else if(typeof define === \"function\" && define.amd){\n",
       "   // require.js is available: use it to load d3/LDAvis\n",
       "   require.config({paths: {d3: \"https://d3js.org/d3.v5\"}});\n",
       "   require([\"d3\"], function(d3){\n",
       "      window.d3 = d3;\n",
       "      LDAvis_load_lib(\"https://cdn.jsdelivr.net/gh/bmabey/pyLDAvis@3.3.1/pyLDAvis/js/ldavis.v3.0.0.js\", function(){\n",
       "        new LDAvis(\"#\" + \"ldavis_el1680419757632542885664483085\", ldavis_el1680419757632542885664483085_data);\n",
       "      });\n",
       "    });\n",
       "}else{\n",
       "    // require.js not available: dynamically load d3 & LDAvis\n",
       "    LDAvis_load_lib(\"https://d3js.org/d3.v5.js\", function(){\n",
       "         LDAvis_load_lib(\"https://cdn.jsdelivr.net/gh/bmabey/pyLDAvis@3.3.1/pyLDAvis/js/ldavis.v3.0.0.js\", function(){\n",
       "                 new LDAvis(\"#\" + \"ldavis_el1680419757632542885664483085\", ldavis_el1680419757632542885664483085_data);\n",
       "            })\n",
       "         });\n",
       "}\n",
       "</script>"
      ],
      "text/plain": [
       "<IPython.core.display.HTML object>"
      ]
     },
     "execution_count": 18,
     "metadata": {},
     "output_type": "execute_result"
    }
   ],
   "source": [
    "import pyLDAvis.gensim_models as gensimvis\n",
    "import pyLDAvis\n",
    "\n",
    "vis_data = gensimvis.prepare(modelo_lda, corpus, diccionario)\n",
    "pyLDAvis.display(vis_data)"
   ]
  },
  {
   "cell_type": "code",
   "execution_count": 26,
   "id": "e0392fb6",
   "metadata": {},
   "outputs": [
    {
     "name": "stderr",
     "output_type": "stream",
     "text": [
      "C:\\Users\\Daniel Fernandez\\anaconda3\\envs\\spacy\\lib\\site-packages\\ipykernel\\ipkernel.py:287: DeprecationWarning: `should_run_async` will not call `transform_cell` automatically in the future. Please pass the result to `transformed_cell` argument and any exception that happen during thetransform in `preprocessing_exc_tuple` in IPython 7.17 and above.\n",
      "  and should_run_async(code)\n"
     ]
    },
    {
     "ename": "ValidationError",
     "evalue": "\n * Not all rows (distributions) in doc_topic_dists sum to 1.",
     "output_type": "error",
     "traceback": [
      "\u001b[1;31m---------------------------------------------------------------------------\u001b[0m",
      "\u001b[1;31mValidationError\u001b[0m                           Traceback (most recent call last)",
      "\u001b[1;32m<ipython-input-26-72097f9e51c2>\u001b[0m in \u001b[0;36m<module>\u001b[1;34m\u001b[0m\n\u001b[1;32m----> 1\u001b[1;33m \u001b[0mvis_data\u001b[0m \u001b[1;33m=\u001b[0m \u001b[0mgensimvis\u001b[0m\u001b[1;33m.\u001b[0m\u001b[0mprepare\u001b[0m\u001b[1;33m(\u001b[0m\u001b[0mmodelo_hdp\u001b[0m\u001b[1;33m,\u001b[0m \u001b[0mcorpus\u001b[0m\u001b[1;33m,\u001b[0m \u001b[0mdiccionario\u001b[0m\u001b[1;33m)\u001b[0m\u001b[1;33m\u001b[0m\u001b[1;33m\u001b[0m\u001b[0m\n\u001b[0m\u001b[0;32m      2\u001b[0m \u001b[0mpyLDAvis\u001b[0m\u001b[1;33m.\u001b[0m\u001b[0mdisplay\u001b[0m\u001b[1;33m(\u001b[0m\u001b[0mvis_data\u001b[0m\u001b[1;33m)\u001b[0m\u001b[1;33m\u001b[0m\u001b[1;33m\u001b[0m\u001b[0m\n",
      "\u001b[1;32m~\\anaconda3\\envs\\spacy\\lib\\site-packages\\pyLDAvis\\gensim_models.py\u001b[0m in \u001b[0;36mprepare\u001b[1;34m(topic_model, corpus, dictionary, doc_topic_dist, **kwargs)\u001b[0m\n\u001b[0;32m    121\u001b[0m     \"\"\"\n\u001b[0;32m    122\u001b[0m     \u001b[0mopts\u001b[0m \u001b[1;33m=\u001b[0m \u001b[0mfp\u001b[0m\u001b[1;33m.\u001b[0m\u001b[0mmerge\u001b[0m\u001b[1;33m(\u001b[0m\u001b[0m_extract_data\u001b[0m\u001b[1;33m(\u001b[0m\u001b[0mtopic_model\u001b[0m\u001b[1;33m,\u001b[0m \u001b[0mcorpus\u001b[0m\u001b[1;33m,\u001b[0m \u001b[0mdictionary\u001b[0m\u001b[1;33m,\u001b[0m \u001b[0mdoc_topic_dist\u001b[0m\u001b[1;33m)\u001b[0m\u001b[1;33m,\u001b[0m \u001b[0mkwargs\u001b[0m\u001b[1;33m)\u001b[0m\u001b[1;33m\u001b[0m\u001b[1;33m\u001b[0m\u001b[0m\n\u001b[1;32m--> 123\u001b[1;33m     \u001b[1;32mreturn\u001b[0m \u001b[0mpyLDAvis\u001b[0m\u001b[1;33m.\u001b[0m\u001b[0mprepare\u001b[0m\u001b[1;33m(\u001b[0m\u001b[1;33m**\u001b[0m\u001b[0mopts\u001b[0m\u001b[1;33m)\u001b[0m\u001b[1;33m\u001b[0m\u001b[1;33m\u001b[0m\u001b[0m\n\u001b[0m",
      "\u001b[1;32m~\\anaconda3\\envs\\spacy\\lib\\site-packages\\pyLDAvis\\_prepare.py\u001b[0m in \u001b[0;36mprepare\u001b[1;34m(topic_term_dists, doc_topic_dists, doc_lengths, vocab, term_frequency, R, lambda_step, mds, n_jobs, plot_opts, sort_topics, start_index)\u001b[0m\n\u001b[0;32m    413\u001b[0m     \u001b[0mdoc_lengths\u001b[0m \u001b[1;33m=\u001b[0m \u001b[0m_series_with_name\u001b[0m\u001b[1;33m(\u001b[0m\u001b[0mdoc_lengths\u001b[0m\u001b[1;33m,\u001b[0m \u001b[1;34m'doc_length'\u001b[0m\u001b[1;33m)\u001b[0m\u001b[1;33m\u001b[0m\u001b[1;33m\u001b[0m\u001b[0m\n\u001b[0;32m    414\u001b[0m     \u001b[0mvocab\u001b[0m \u001b[1;33m=\u001b[0m \u001b[0m_series_with_name\u001b[0m\u001b[1;33m(\u001b[0m\u001b[0mvocab\u001b[0m\u001b[1;33m,\u001b[0m \u001b[1;34m'vocab'\u001b[0m\u001b[1;33m)\u001b[0m\u001b[1;33m\u001b[0m\u001b[1;33m\u001b[0m\u001b[0m\n\u001b[1;32m--> 415\u001b[1;33m     \u001b[0m_input_validate\u001b[0m\u001b[1;33m(\u001b[0m\u001b[0mtopic_term_dists\u001b[0m\u001b[1;33m,\u001b[0m \u001b[0mdoc_topic_dists\u001b[0m\u001b[1;33m,\u001b[0m \u001b[0mdoc_lengths\u001b[0m\u001b[1;33m,\u001b[0m \u001b[0mvocab\u001b[0m\u001b[1;33m,\u001b[0m \u001b[0mterm_frequency\u001b[0m\u001b[1;33m)\u001b[0m\u001b[1;33m\u001b[0m\u001b[1;33m\u001b[0m\u001b[0m\n\u001b[0m\u001b[0;32m    416\u001b[0m     \u001b[0mR\u001b[0m \u001b[1;33m=\u001b[0m \u001b[0mmin\u001b[0m\u001b[1;33m(\u001b[0m\u001b[0mR\u001b[0m\u001b[1;33m,\u001b[0m \u001b[0mlen\u001b[0m\u001b[1;33m(\u001b[0m\u001b[0mvocab\u001b[0m\u001b[1;33m)\u001b[0m\u001b[1;33m)\u001b[0m\u001b[1;33m\u001b[0m\u001b[1;33m\u001b[0m\u001b[0m\n\u001b[0;32m    417\u001b[0m \u001b[1;33m\u001b[0m\u001b[0m\n",
      "\u001b[1;32m~\\anaconda3\\envs\\spacy\\lib\\site-packages\\pyLDAvis\\_prepare.py\u001b[0m in \u001b[0;36m_input_validate\u001b[1;34m(*args)\u001b[0m\n\u001b[0;32m     72\u001b[0m     \u001b[0mres\u001b[0m \u001b[1;33m=\u001b[0m \u001b[0m_input_check\u001b[0m\u001b[1;33m(\u001b[0m\u001b[1;33m*\u001b[0m\u001b[0margs\u001b[0m\u001b[1;33m)\u001b[0m\u001b[1;33m\u001b[0m\u001b[1;33m\u001b[0m\u001b[0m\n\u001b[0;32m     73\u001b[0m     \u001b[1;32mif\u001b[0m \u001b[0mres\u001b[0m\u001b[1;33m:\u001b[0m\u001b[1;33m\u001b[0m\u001b[1;33m\u001b[0m\u001b[0m\n\u001b[1;32m---> 74\u001b[1;33m         \u001b[1;32mraise\u001b[0m \u001b[0mValidationError\u001b[0m\u001b[1;33m(\u001b[0m\u001b[1;34m'\\n'\u001b[0m \u001b[1;33m+\u001b[0m \u001b[1;34m'\\n'\u001b[0m\u001b[1;33m.\u001b[0m\u001b[0mjoin\u001b[0m\u001b[1;33m(\u001b[0m\u001b[1;33m[\u001b[0m\u001b[1;34m' * '\u001b[0m \u001b[1;33m+\u001b[0m \u001b[0ms\u001b[0m \u001b[1;32mfor\u001b[0m \u001b[0ms\u001b[0m \u001b[1;32min\u001b[0m \u001b[0mres\u001b[0m\u001b[1;33m]\u001b[0m\u001b[1;33m)\u001b[0m\u001b[1;33m)\u001b[0m\u001b[1;33m\u001b[0m\u001b[1;33m\u001b[0m\u001b[0m\n\u001b[0m\u001b[0;32m     75\u001b[0m \u001b[1;33m\u001b[0m\u001b[0m\n\u001b[0;32m     76\u001b[0m \u001b[1;33m\u001b[0m\u001b[0m\n",
      "\u001b[1;31mValidationError\u001b[0m: \n * Not all rows (distributions) in doc_topic_dists sum to 1."
     ]
    }
   ],
   "source": [
    "vis_data = gensimvis.prepare(modelo_hdp, corpus, diccionario)\n",
    "pyLDAvis.display(vis_data)"
   ]
  },
  {
   "cell_type": "code",
   "execution_count": 20,
   "id": "08cc2078",
   "metadata": {},
   "outputs": [
    {
     "name": "stderr",
     "output_type": "stream",
     "text": [
      "C:\\Users\\Daniel Fernandez\\anaconda3\\envs\\spacy\\lib\\site-packages\\ipykernel\\ipkernel.py:287: DeprecationWarning: `should_run_async` will not call `transform_cell` automatically in the future. Please pass the result to `transformed_cell` argument and any exception that happen during thetransform in `preprocessing_exc_tuple` in IPython 7.17 and above.\n",
      "  and should_run_async(code)\n"
     ]
    },
    {
     "name": "stdout",
     "output_type": "stream",
     "text": [
      "El logaritomo de la perplejidad del corpus al modelo LDA es -7.240753170744475\n"
     ]
    }
   ],
   "source": [
    "print(f\"El logaritomo de la perplejidad del corpus al modelo LDA es {modelo_lda.log_perplexity(corpus)}\")"
   ]
  },
  {
   "cell_type": "code",
   "execution_count": 21,
   "id": "00adea02",
   "metadata": {},
   "outputs": [
    {
     "name": "stderr",
     "output_type": "stream",
     "text": [
      "C:\\Users\\Daniel Fernandez\\anaconda3\\envs\\spacy\\lib\\site-packages\\ipykernel\\ipkernel.py:287: DeprecationWarning: `should_run_async` will not call `transform_cell` automatically in the future. Please pass the result to `transformed_cell` argument and any exception that happen during thetransform in `preprocessing_exc_tuple` in IPython 7.17 and above.\n",
      "  and should_run_async(code)\n"
     ]
    },
    {
     "name": "stdout",
     "output_type": "stream",
     "text": [
      "Coherencia del modelo LDA (C_V): 0.40130602980591024\n",
      "\tTópico 0, coherencia 0.47974602222532986\n",
      "\tTópico 1, coherencia 0.3319774470114377\n",
      "\tTópico 2, coherencia 0.435758763163874\n",
      "\tTópico 3, coherencia 0.2707477562277444\n",
      "\tTópico 4, coherencia 0.395754835870843\n",
      "\tTópico 5, coherencia 0.5626785032379846\n",
      "\tTópico 6, coherencia 0.38894851900817506\n",
      "\tTópico 7, coherencia 0.43823495712136734\n",
      "\tTópico 8, coherencia 0.6141576368047698\n",
      "\tTópico 9, coherencia 0.34264613233577035\n",
      "\tTópico 10, coherencia 0.23343477253535871\n",
      "\tTópico 11, coherencia 0.36730149694195957\n",
      "\tTópico 12, coherencia 0.37287505180206215\n",
      "\tTópico 13, coherencia 0.38700938023390313\n",
      "\tTópico 14, coherencia 0.39831917256807287\n",
      "\n",
      "\n",
      "Coherencia del modelo HDP (C_V): 0.7530512356836855\n",
      "\tTópico 0, coherencia 0.7333726267630534\n",
      "\tTópico 1, coherencia 0.7350453430807942\n",
      "\tTópico 2, coherencia 0.7774004878147425\n",
      "\tTópico 3, coherencia 0.7874313066140313\n",
      "\tTópico 4, coherencia 0.7415655431308665\n",
      "\tTópico 5, coherencia 0.7198090048767981\n",
      "\tTópico 6, coherencia 0.8072644163481207\n",
      "\tTópico 7, coherencia 0.7438383298803756\n",
      "\tTópico 8, coherencia 0.7709538671331201\n",
      "\tTópico 9, coherencia 0.7636067951552923\n",
      "\tTópico 10, coherencia 0.7115026441353336\n",
      "\tTópico 11, coherencia 0.749496189552084\n",
      "\tTópico 12, coherencia 0.7525616807817503\n",
      "\tTópico 13, coherencia 0.6946012802044239\n",
      "\tTópico 14, coherencia 0.8073190197844937\n"
     ]
    }
   ],
   "source": [
    "cm_lda = models.CoherenceModel(model=modelo_lda, texts=informe_tratado, coherence='c_v')\n",
    "cm_hdp = models.CoherenceModel(model=modelo_hdp, texts=informe_tratado, coherence='c_v')\n",
    "\n",
    "\n",
    "print(\"Coherencia del modelo LDA (C_V): {}\".format(cm_lda.get_coherence()))\n",
    "for (topico, coherencia) in enumerate(cm_lda.get_coherence_per_topic()):\n",
    "    print(\"\\tTópico {}, coherencia {}\".format(topico, coherencia))\n",
    "\n",
    "print(\"\\n\\nCoherencia del modelo HDP (C_V): {}\".format(cm_hdp.get_coherence()))\n",
    "for (topico, coherencia) in enumerate(cm_hdp.get_coherence_per_topic()):\n",
    "    print(\"\\tTópico {}, coherencia {}\".format(topico, coherencia))"
   ]
  },
  {
   "cell_type": "code",
   "execution_count": 22,
   "id": "22e7c00c",
   "metadata": {},
   "outputs": [
    {
     "name": "stdout",
     "output_type": "stream",
     "text": [
      "Las palabra que definen los tópicos en LDA\n",
      "\n",
      "0 - sitio, productos, turismo, méxico, doctor, italia, económicas, asunto, común, permitido, participación, acceso, técnicas, connacionales, sentido, situación, control, doctora, persona, comentar\n",
      "1 - países, méxico, situación, interés, relación, epidemias, región, ahorita, tema, influenza, tipo, país, importantes, hablando, colaboración, economía, enero, principio, técnicos, términos\n",
      "2 - unidos, insumos, reserva, llegada, minutos, mecanismos, ebrard, connacionales, china, canciller, años, epidemia, periodo, comunidad, útil, febrero, lista, explicar, nacionales, decía\n",
      "3 - salud, riesgo, años, pública, ocurre, seguridad, equipos, director, situación, nacional, eventos, visto, doctor, oportuno, circunstancia, país, materiales, protección, secretaría, federal\n",
      "4 - proceso, pendiente, secretaría, ve, secretario, masiva, concentración, sábado, eventos, suspensión, hacienda, fase, completa, medidas, anunciar, agradecimiento, posibles, restricción, escenarios, criterio\n",
      "5 - méxico, país, internacional, viajes, pregunta, comunicación, riesgo, respuesta, actividades, oms, escenario, preparación, noticias, cerrar, empieza, definición, rapidito, aumentar, tomaron, toman\n",
      "6 - caso, país, dijimos, llega, virus, doctor, escenarios, sociales, personas, pido, materiales, tabla, síntomas, información, epidemia, pasa, manejo, pasar, alomía, incluye\n",
      "7 - escenario, enfermedad, importante, tengan, coronavirus, punto, covid, semanas, consecuencias, decisiones, fase, realidad, tomar, disminuir, condiciones, jaime, hernández, epidemia, trabajando, preparación\n",
      "8 - doctor, gracias, alomía, compañera, favor, araceli, itzel, material, públicos, comité, ciencia, generales, consideramos, criterios, relevante, económico, caso, tratar, viajeros, institutos\n",
      "9 - transmisión, casa, cierre, patrón, distancia, intervenciones, medidas, prueba, razón, social, semana, mitigación, persona, comunitaria, sana, fase, importante, población, vida, actividades\n",
      "10 - casos, salud, información, número, hospitales, estatales, gobernadores, medida, ocurrir, autoridades, unidades, secretarios, secretarias, expansión, consolidada, fecha, dinámica, nacional, condiciones, consejo\n",
      "11 - personas, melina, ahorita, pregunta, elementos, síntomas, virus, infección, reyes, terán, población, mano, información, evidencia, funciona, términos, respuesta, calidad, inmune, prensa\n",
      "12 - casos, vigilancia, depende, pruebas, sospechoso, modelo, monitoreo, preguntas, epidemiológica, caso, laboratorio, epidemia, sospechosos, personas, alta, correcto, detección, condición, carga, centinela\n",
      "13 - salud, organización, méxico, mundial, internacionales, medidas, presidente, internacional, actuar, técnica, señor, epidemia, respuesta, preparación, actividades, conocimiento, enero, recomendaciones, ahorita, reglamento\n",
      "14 - epidemia, gobierno, respuesta, producción, fronteras, insumos, china, medidas, perdón, inicio, contención, aeropuertos, gente, obviamente, técnico, llegan, países, empezar, real, trabajos\n",
      "\n",
      "\n",
      "Las palabra que definen los tópicos en HDP\n",
      "\n",
      "0 - operaciones, común, cortés, clases, infecciones, educativo, probable, esfuerzos, venir, titulares, marco, simple, serie, afectados, temprana, mitigación, mayoría, intención, gente, mano\n",
      "1 - considerar, punto, fenómenos, cosa, epidemiología, gobernadores, gente, predecir, prioridad, vida, alimentos, riesgo, modalidades, distancia, identifican, profesionales, temporada, superior, privados, sector\n",
      "2 - salir, surge, distintas, vacaciones, bioseguridad, real, criterios, servicios, investigación, elemento, alethse, definición, material, local, diabetes, representa, complicarse, sospechoso, conferencia, tuviera\n",
      "3 - enorme, niveles, pone, completo, explico, afectar, mexicano, hablamos, escenarios, contactos, reducción, fiebre, derecho, preguntas, político, hospital, instrucción, cumbre, grupo, evitar\n",
      "4 - aprovechar, retos, eventos, declarar, comunidad, explicación, viaje, esfuerzo, datos, c, pulso, empieza, enfermedades, salud, exceso, escalamiento, confirmación, mire, privacidad, competencia\n",
      "5 - esperar, respiratorias, componente, bienestar, actividad, sanitario, explico, entidades, señor, llama, efectiva, consideramos, evento, distancia, claridad, comités, aprovecho, máxima, seguimos, federativas\n",
      "6 - especialista, llegara, vigor, pulso, reglas, llevamos, natalia, existido, noticias, zona, útiles, rurales, producción, pasamos, expliqué, coordinación, formal, diagnóstico, queda, comprar\n",
      "7 - gobiernos, gobernador, identifican, acabo, economías, elementos, señor, panorama, principal, idea, razonable, tenían, tuvimos, brotes, operativo, respiratorias, ops, resultado, viven, toma\n",
      "8 - profesionales, afectar, resolución, territorio, disminuir, cierre, ponen, oportuno, enfrentar, dije, cadenas, zonas, secretarías, esenciales, masivas, subsecretaria, patrón, estimaciones, utilizar, quisiera\n",
      "9 - fila, preocupación, identificación, significado, inmune, susana, protege, afectados, sesión, ocurra, ciencia, componente, melina, hospitalaria, vean, aprovechar, pedimos, mensaje, productiva, sarampión\n",
      "10 - guanajuato, distanciamiento, concentraciones, estudios, europa, pública, colega, identificar, laboral, única, operación, campo, frente, fenómeno, sanitarias, llama, viene, secretaría, cambiando, protección\n",
      "11 - puertos, identificar, ocurrencia, media, crónica, indre, contagiar, relación, jabón, visto, números, establecido, zona, edad, marítimos, doy, economías, acabar, balance, confirmado\n",
      "12 - comentario, influenza, marítimos, necesaria, estornudar, proporción, fecha, mano, natural, reunión, base, comunicado, explicando, mendoza, escenario, entrada, interesante, comparación, clínica, restricción\n",
      "13 - inflexión, competencia, diagnóstico, respeto, significado, éxito, quédese, canadá, abril, periodo, semanas, establece, garganta, año, planeando, términos, neumonías, suspensión, informar, llama\n",
      "14 - itzel, propósito, máxima, familias, planes, promoción, concentraciones, resto, muestra, operaciones, jefa, duración, técnicas, diario, conago, insisto, brote, crítica, llamadas, haga\n"
     ]
    },
    {
     "name": "stderr",
     "output_type": "stream",
     "text": [
      "C:\\Users\\Daniel Fernandez\\anaconda3\\envs\\spacy\\lib\\site-packages\\ipykernel\\ipkernel.py:287: DeprecationWarning: `should_run_async` will not call `transform_cell` automatically in the future. Please pass the result to `transformed_cell` argument and any exception that happen during thetransform in `preprocessing_exc_tuple` in IPython 7.17 and above.\n",
      "  and should_run_async(code)\n"
     ]
    }
   ],
   "source": [
    "print(\"Las palabra que definen los tópicos en LDA\\n\")\n",
    "t_palabras = cm_lda.top_topics_as_word_lists(model=modelo_lda, dictionary=diccionario)\n",
    "for (topico, palabras) in enumerate(t_palabras):\n",
    "    print(f\"{topico} - {', '.join(palabras)}\")\n",
    "    \n",
    "print(\"\\n\\nLas palabra que definen los tópicos en HDP\\n\")\n",
    "t_palabras = cm_hdp.top_topics_as_word_lists(model=modelo_hdp, dictionary=diccionario)\n",
    "for (topico, palabras) in enumerate(t_palabras):\n",
    "    print(f\"{topico} - {', '.join(palabras)}\")"
   ]
  },
  {
   "cell_type": "code",
   "execution_count": null,
   "id": "a1ecb64b",
   "metadata": {},
   "outputs": [],
   "source": []
  }
 ],
 "metadata": {
  "kernelspec": {
   "display_name": "Python 3",
   "language": "python",
   "name": "python3"
  },
  "language_info": {
   "codemirror_mode": {
    "name": "ipython",
    "version": 3
   },
   "file_extension": ".py",
   "mimetype": "text/x-python",
   "name": "python",
   "nbconvert_exporter": "python",
   "pygments_lexer": "ipython3",
   "version": "3.9.4"
  }
 },
 "nbformat": 4,
 "nbformat_minor": 5
}
